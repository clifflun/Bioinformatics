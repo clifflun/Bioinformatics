{
 "cells": [
  {
   "cell_type": "code",
   "execution_count": 16,
   "metadata": {},
   "outputs": [
    {
     "name": "stdout",
     "output_type": "stream",
     "text": [
      "['Rosalind_0559', 'Rosalind_0292']\n",
      "['GCGAACAAAGGCTGGTTTACCAATGGCCGGACCGGCGTCGTCCTTAGAAATTGTAACGGGTGGCGGCCCATAGGTTGATAGAGCGCTGGTTGCAATGATTCTAATCGGGCCCTCTGCCAGCAAACTCCGAACTTATTCTGGTGTCAAACCGCCGGACCTGCGCTCATAACGGATCTATAGTATGATACGTAAAACTGAGAGCCAGTACACACAATCACGCGACCATTGCTAGACTTCGTAAAGCGCCGCGATTTAAAGACGCCTCTCAGCTATTTCAGCGTGAAATGAGAGAGGCGTTCCCGAACACGGAGTAGGGGCTGAGGGAATCATCCGACGTTTAAGCTTCGCAATAGGAGTATAATCCTAGGATCCCTTCTTAGTCCTTTTTGCTCCGCGCTAACCCCCCAGCATTGCTGGGACCATCCGCAGCTCTCAGGACGTCGCGTGGCCTGCGCGGAGTAATCCGGTCATGAGGGCAAGACGTCGGTGACATACTTTGCGCCGTTCTGGGACAGTTATTGATTGTCGTAGGTATTTACGTGGGTCGTTCCCTTGTATTTGCCGGCACCTATACTTGTCAATGGCGCCACACGTAAGGCCATGACAAACTTCGTGACATACACGTATTTCAGAGGGATGAGAATGGTACAGTCATGTATCGAGAGAGTGAGTTGCCACCGCTGCGCGGGATCGAGTAACATACTGAACGGCGACCATCTTCGACGCGTAACGATGGACGAACGTGGAGAATTTGAGATCTGGTTTTAATCCAGCCTAAATTTTTGCAGTGCTATACCGGTGACCTGCATGACAATGGACCGTGTGTCATTTTGAGAAAGTACCAGCTCTAGGATTTGCTGGCTACACGTACTGTCTTTTGCTCTTACTATCTTTTGCTGCAGTTTGAAGTTCGGTCGCCCTGGGATTTTAGCAAGCAATCGCTAAATGATCACCCCGTTACTATACGTATTCCGCCATTGAA', 'GAAAACGAAGGCTACTTTGCTAGTGGCCGTGCTGGTGTAATCCTTCGAGACTGTAATGGGCGGCGGCCCGTGGGTCTATAGACCGTTAGTATCAATGGTTCCCATCGGATCCTTTGCGAACAAACTCCAAATTTACTCCAGTATGATACGGCCAGGCCCGGGCTCACAGCTAGCCAGTGGTATGGTACGTAGAGGCGAGCGCCATTACACACGACTATGTGACCATTACTCGGTTTTATAAAACGCCGCGACTTAGAGACGCCTCTCAACTATTTTAGTGTAATAAGAGAAAGGTATCCCCGAATACAGAGGAAGGGTTATGGAAACCACCGGGTATTCAGGCCTTGCAATAGGGAGATAATCCTAGGATCCGTTCTCAGTTCTCCTCCCTCAACGCTTACTCCCCAGTATCATCGGCACCATTCTCATTTCTCGGGACGACACGCCGCCTGTGCAAGGTCATCTGCTCACGTGGTCGAGCCTTCGGTGATGTATTTTGCTCAGTTTTGAGTCAGCCGCTGGTTCTTGTAGTTAGGTACGTGCGACGGTCCTTTATATTTACCTGCCCCTGTACTTGCCAGTGGCGCTGCGAGTAAGGCCATAACGAACTTCGTCACAAACTCGTCTTTTAGAGGGACGAGGCTCGCACAGCTATGTATTGAGAAAGTGAGTCGCTGTCGTTGTGCGGGTCCAAGTAGTATAGTGATCGGCGTCTATAATCGACGTATAACGACGAACGGACGTTAGGAATCTAGAGCCTGGTTCTTATTCAAGGTCAGTCATTACATCGCTAGAGCGGCAGCCTTCGTAACAATTGACCGTGTATTATTTGGAGTAAATACCAAACCTTTGATTGACCCGCTACGTGTACTGTTTTCCACCCTAACCATTTTCTGCCGCAATTTGAATTTCGGCTGTTCCGAGATCTTGGCGAGGAGTCATTCACCGATCATCCCATCACTATACTTGTTCTACCAGTGAA']\n"
     ]
    }
   ],
   "source": [
    "##getting fasta in list format\n",
    "fa_id = []\n",
    "temp = ''\n",
    "for line in open('TRAN.txt'): \n",
    "    if line.startswith('>'):\n",
    "        fa_id.append(line.strip()[1:])\n",
    "        temp +='>'\n",
    "    else: \n",
    "        temp += line.strip()\n",
    "fa_seq = temp.split('>')[1:]\n",
    "\n",
    "print(fa_id)\n",
    "print(fa_seq)"
   ]
  },
  {
   "cell_type": "code",
   "execution_count": 17,
   "metadata": {},
   "outputs": [],
   "source": [
    "TRANSITION=['AG','GA', 'CT', 'TC']"
   ]
  },
  {
   "cell_type": "code",
   "execution_count": 18,
   "metadata": {},
   "outputs": [],
   "source": [
    "seq1=fa_seq[0]\n",
    "seq2=fa_seq[1]\n",
    "def main(seq1,seq2):    \n",
    "    transition_count = 0\n",
    "    translation_count = 0\n",
    "    for i,j in zip(seq1,seq2):\n",
    "        tmp=''\n",
    "        if i != j:\n",
    "            tmp+=i\n",
    "            tmp+=j\n",
    "            if tmp in TRANSITION:\n",
    "                transition_count +=1\n",
    "            else:\n",
    "                translation_count +=1\n",
    "    return transition_count/translation_count"
   ]
  },
  {
   "cell_type": "code",
   "execution_count": 19,
   "metadata": {},
   "outputs": [
    {
     "data": {
      "text/plain": [
       "2.2934782608695654"
      ]
     },
     "execution_count": 19,
     "metadata": {},
     "output_type": "execute_result"
    }
   ],
   "source": [
    "main(seq1,seq2)"
   ]
  },
  {
   "cell_type": "code",
   "execution_count": null,
   "metadata": {},
   "outputs": [],
   "source": []
  }
 ],
 "metadata": {
  "kernelspec": {
   "display_name": "Python 3",
   "language": "python",
   "name": "python3"
  },
  "language_info": {
   "codemirror_mode": {
    "name": "ipython",
    "version": 3
   },
   "file_extension": ".py",
   "mimetype": "text/x-python",
   "name": "python",
   "nbconvert_exporter": "python",
   "pygments_lexer": "ipython3",
   "version": "3.7.3"
  }
 },
 "nbformat": 4,
 "nbformat_minor": 2
}
