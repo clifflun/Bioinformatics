{
 "cells": [
  {
   "cell_type": "markdown",
   "metadata": {},
   "source": [
    "# Explanation\n",
    "\n",
    "No matter what the genotype is, when a parent mating with AaBb, the probability of having a AaBb offspring is 0.25.\n",
    "\n",
    "\n",
    "This is because no matter which allele is picked from the parent, there is a 50% chance for the mating partner to pick one of the allele to be the opposite(dominant vs recessive). Hence, there is a 25% chance that the mating partner will pick the correct alleles for having offspring with AaBb\n",
    "\n",
    "To find the probability of having at least N AaBb offspring, we just need to find the probability of not having at least N offspring and 1-prob.\n",
    "\n",
    "This is a binomial probability question.\n"
   ]
  },
  {
   "cell_type": "code",
   "execution_count": 34,
   "metadata": {},
   "outputs": [],
   "source": [
    "from math import factorial\n"
   ]
  },
  {
   "cell_type": "code",
   "execution_count": 58,
   "metadata": {},
   "outputs": [],
   "source": [
    "def binomial_prob(x,n,p):\n",
    "    comb = factorial(n)/(factorial(n-x)*factorial(x))\n",
    "    prob = comb * (p**x) * ((1-p)**(n-x))\n",
    "    return prob"
   ]
  },
  {
   "cell_type": "code",
   "execution_count": 87,
   "metadata": {},
   "outputs": [],
   "source": [
    "def main(k,N): \n",
    "    total_pop = 2**k\n",
    "    x= []\n",
    "    for i in range(N,total_pop+1):\n",
    "#         print(i)\n",
    "        x.append(binomial_prob(i,total_pop,0.25))\n",
    "    return sum(x)"
   ]
  },
  {
   "cell_type": "code",
   "execution_count": 88,
   "metadata": {},
   "outputs": [
    {
     "data": {
      "text/plain": [
       "0.5675291577424664"
      ]
     },
     "execution_count": 88,
     "metadata": {},
     "output_type": "execute_result"
    }
   ],
   "source": [
    "main(5,8)"
   ]
  },
  {
   "cell_type": "code",
   "execution_count": null,
   "metadata": {},
   "outputs": [],
   "source": []
  }
 ],
 "metadata": {
  "kernelspec": {
   "display_name": "Python 3",
   "language": "python",
   "name": "python3"
  },
  "language_info": {
   "codemirror_mode": {
    "name": "ipython",
    "version": 3
   },
   "file_extension": ".py",
   "mimetype": "text/x-python",
   "name": "python",
   "nbconvert_exporter": "python",
   "pygments_lexer": "ipython3",
   "version": "3.7.3"
  }
 },
 "nbformat": 4,
 "nbformat_minor": 2
}
