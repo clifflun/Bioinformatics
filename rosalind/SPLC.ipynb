{
 "cells": [
  {
   "cell_type": "code",
   "execution_count": 19,
   "metadata": {},
   "outputs": [],
   "source": [
    "import PROT\n",
    "import RNA\n",
    "import re"
   ]
  },
  {
   "cell_type": "code",
   "execution_count": 20,
   "metadata": {},
   "outputs": [
    {
     "name": "stdout",
     "output_type": "stream",
     "text": [
      "['Rosalind_5876', 'Rosalind_3465', 'Rosalind_7769', 'Rosalind_7558', 'Rosalind_4845', 'Rosalind_5909', 'Rosalind_9918', 'Rosalind_6088', 'Rosalind_3562', 'Rosalind_8292', 'Rosalind_0950', 'Rosalind_8495', 'Rosalind_6353', 'Rosalind_4559']\n",
      "['ATGATGATGTCTAATCTAAAGATTACATCGTCGCTCCGCCCTGATTATCATTCATGCGGAAGGCTAGGTTGGCTCACAGACGCATGCGCAGGGAAGGAAATGGGGTACACTCCTAGCGGGTCTAGGTTTTTTGCGCCGATAAGGTTTGCTTACGGATGTGGGTAGACCCTCAGTGAGTACAGTATGTAAAGGTTTCAATTGTAATTCTTAGACACCACACAGTGCAAGTGTAGACCGTCAGCGCGCGGACAAACTCTAAAGCCATGCGGGTTCATCATACCTCAGGACGGTTACGTCACGCGGTGCTGCAGTTTGCACAGAGCGCCCCCTGGGCAGTCAGAAGCGATTGAGTCCCAGGAGCCCTCCTCTGAAGTACTCGCGAAGTCCACGCATTTTATACGTTGCTCACCCCAAGAATCTTAACGGTGGTATCGCCCATTGGTATGCGTGTTAAGGTGCAGACGCTGTGGCACCGGTGATGGAACGCACGAAGAGATATTTCAGTCCAAGAAGCGTTCATCTGGGCAGCAAACTCGAACCACTCACCAATGCCGGAGGACCCTAGTGAGACAGGATGTTCCTCGGACTTTGACGAAGCAATCGTCGTCCTGCCTCAACCCGAGATTTGAGGCGACTACAACAGGTCAGTCCCTTTCCCTGTTCGCTATTCCCTTCCCACTCTCCTCTGCAACAGGGTCATGGTTGTTACTCTGCCCCGACAGCACTTCCTTTTGCAAAATAGCGCGCCGAGTCCTATGCTAAAACACTCAACTATTCAACCCAGCGTGTGTTCCTAGTAGAAGCGGTCCGAATTCGCTCAGAGAGCTTCAATACGCATACCGTTACTCAAGTAGAACACGCCAGAGTCTCCTTCGGGCACAGAAAGCACGTTAATCCACTTCATCTTAGCAACCATGCCGATAACCGAAATATAATAGCCCACTCGGGTACTCTGCGCGGACCAACAATACTCCCACTTGAACATCTGTAG', 'TTCGCTATTCCCTTCCCAC', 'AGTAGAACACGCCAGAGTCTCCTTCGGGCACA', 'TCCTAGTAGAAGCGGTCCGAATTCGCTCAGAGAGCTTCAA', 'GATTATCATTCATGCGGAAGGCTAGGTTGGCTCACAGACGCATGCG', 'ATGCCGATAACCGAAATATA', 'AGTACAGTATGTAAAGGTTTCAATTGTAATTCTTAGACACCACACAGTGC', 'CATCTGGGCAGCAAACTCGAACCACTCACCAATGCCGGAGGACCCTAGTG', 'TGCCTCAACCCG', 'CAGGACGGTTACGTCACGCGGTGCTGCAGTTTGCACAGAG', 'CCTCTGAAGTACTCGCGAAGTCCACGCATTTTATACGTTGCT', 'ACAGCACTTCCTTTTGCAAAATAGCGCGCCGAGTCCTATGCTAAAACAC', 'GGTCTAGGTTTTTTGCGCCGATAAGGTTTGCTTACGGATGTG', 'TAAGGTGCAGACGCTGTGGCACCGGTGATG']\n"
     ]
    }
   ],
   "source": [
    "##getting fasta in list format\n",
    "fa_id = []\n",
    "temp = ''\n",
    "for line in open('SPLC.txt'): \n",
    "    if line.startswith('>'):\n",
    "        fa_id.append(line.strip()[1:])\n",
    "        temp +='>'\n",
    "    else: \n",
    "        temp += line.strip()\n",
    "fa_seq = temp.split('>')[1:]\n",
    "\n",
    "print(fa_id)\n",
    "print(fa_seq)"
   ]
  },
  {
   "cell_type": "code",
   "execution_count": 32,
   "metadata": {},
   "outputs": [],
   "source": [
    "def main(fa_seq):\n",
    "    dna = fa_seq[0]\n",
    "    for i in range(len(fa_seq)):\n",
    "        if i == 0 : \n",
    "            continue\n",
    "        dna = re.sub(fa_seq[i], '', dna)\n",
    "    rna = RNA.main(dna)\n",
    "    aa = PROT.translate(rna)\n",
    "    return aa"
   ]
  },
  {
   "cell_type": "code",
   "execution_count": 33,
   "metadata": {},
   "outputs": [
    {
     "data": {
      "text/plain": [
       "'MMMSNLKITSSLRPQGRKWGTLLAGRPSVKCRPSARGQTLKPCGFIIPRPLGSQKRLSPRSPHPKNLNGGIAHWYACERTKRYFSPRSVRQDVPRTLTKQSSSRFEATTTGQSLSLSPLQQGHGCYSAPSTIQPSVCYAYRYSESTLIHFILATIAHSGTLRGPTILPLEHL'"
      ]
     },
     "execution_count": 33,
     "metadata": {},
     "output_type": "execute_result"
    }
   ],
   "source": [
    "main(fa_seq)"
   ]
  },
  {
   "cell_type": "code",
   "execution_count": null,
   "metadata": {},
   "outputs": [],
   "source": []
  }
 ],
 "metadata": {
  "kernelspec": {
   "display_name": "Python 3",
   "language": "python",
   "name": "python3"
  },
  "language_info": {
   "codemirror_mode": {
    "name": "ipython",
    "version": 3
   },
   "file_extension": ".py",
   "mimetype": "text/x-python",
   "name": "python",
   "nbconvert_exporter": "python",
   "pygments_lexer": "ipython3",
   "version": "3.7.3"
  }
 },
 "nbformat": 4,
 "nbformat_minor": 2
}
