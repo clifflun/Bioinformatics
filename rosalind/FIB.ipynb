{
 "cells": [
  {
   "cell_type": "code",
   "execution_count": 21,
   "metadata": {},
   "outputs": [],
   "source": [
    "n = 5\n",
    "k = 3\n",
    "\n",
    "\n",
    "def fib(n, k): \n",
    "    new, old = 1, 1\n",
    "    for i in range(n-1): \n",
    "        new, old = old, old + (new*k)\n",
    "    return new"
   ]
  },
  {
   "cell_type": "code",
   "execution_count": 22,
   "metadata": {},
   "outputs": [
    {
     "name": "stdout",
     "output_type": "stream",
     "text": [
      "1 4\n",
      "4 7\n",
      "7 19\n",
      "19 40\n",
      "40 97\n",
      "97 217\n",
      "217 508\n",
      "508 1159\n",
      "1159 2683\n",
      "2683 6160\n",
      "6160 14209\n",
      "14209 32689\n",
      "32689 75316\n",
      "75316 173383\n",
      "173383 399331\n",
      "399331 919480\n",
      "919480 2117473\n",
      "2117473 4875913\n",
      "4875913 11228332\n",
      "11228332 25856071\n",
      "25856071 59541067\n",
      "59541067 137109280\n",
      "137109280 315732481\n",
      "315732481 727060321\n",
      "727060321 1674257764\n",
      "1674257764 3855438727\n",
      "3855438727 8878212019\n",
      "8878212019 20444528200\n",
      "20444528200 47079164257\n"
     ]
    },
    {
     "data": {
      "text/plain": [
       "20444528200"
      ]
     },
     "execution_count": 22,
     "metadata": {},
     "output_type": "execute_result"
    }
   ],
   "source": [
    "fib(30,3)"
   ]
  },
  {
   "cell_type": "code",
   "execution_count": null,
   "metadata": {},
   "outputs": [],
   "source": []
  }
 ],
 "metadata": {
  "kernelspec": {
   "display_name": "Python 3",
   "language": "python",
   "name": "python3"
  },
  "language_info": {
   "codemirror_mode": {
    "name": "ipython",
    "version": 3
   },
   "file_extension": ".py",
   "mimetype": "text/x-python",
   "name": "python",
   "nbconvert_exporter": "python",
   "pygments_lexer": "ipython3",
   "version": "3.7.3"
  }
 },
 "nbformat": 4,
 "nbformat_minor": 2
}
