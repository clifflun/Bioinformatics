{
 "cells": [
  {
   "cell_type": "code",
   "execution_count": 1,
   "metadata": {},
   "outputs": [],
   "source": [
    "aa_mass = {\n",
    "    \"A\": \"71.03711\",\n",
    "\"C\": \"103.00919\",\n",
    "\"D\": \"115.02694\",\n",
    "\"E\": \"129.04259\",\n",
    "\"F\": \"147.06841\",\n",
    "\"G\": \"57.02146\",\n",
    "\"H\": \"137.05891\",\n",
    "\"I\": \"113.08406\",\n",
    "\"K\": \"128.09496\",\n",
    "\"L\": \"113.08406\",\n",
    "\"M\": \"131.04049\",\n",
    "\"N\": \"114.04293\",\n",
    "\"P\": \"97.05276\",\n",
    "\"Q\": \"128.05858\",\n",
    "\"R\": \"156.10111\",\n",
    "\"S\": \"87.03203\",\n",
    "\"T\": \"101.04768\",\n",
    "\"V\": \"99.06841\",\n",
    "\"W\": \"186.07931\",\n",
    "\"Y\": \"163.06333\" \n",
    "\n",
    "}"
   ]
  },
  {
   "cell_type": "code",
   "execution_count": 10,
   "metadata": {},
   "outputs": [],
   "source": [
    "aa = 'NGTQAHRDVIQPFIPHTKEHKHWWPMIQCNKKWTQWSWAHKSHTEEPGEGHGLCTNRRAITGFPAATQYVPHNQVLDAAQRNTKQFLIASGVFRCHFTMGIQCDIARRQCAMRFQMTDYWGEVRTEAFCLNLFCSASYIEFAGYCNAQVDFHRIPFHFAYWCTTAETDHCEEQWAGIPISEISIVADTTAMGKPNIDKQPRQVENCLMANHITQAYMHNKVAVKPITREHLGVKQDHMYNNRRIRFIEEMNIALNTIANPMAWAWLWIKCCGMRSMLICQRCPNDNHGIIWRACNGQGFIFSIVSLMKPDDWKDHEYWMEWAGTKECTWMVDYAFQKVHFCPYVQCLRDYKPNFIMRAAIAPMYYHTMWHGDHPVPFLHRGRQVQKIEITGWMPYWDTCPMNMWWFEFGWLAYLTIKMGAASWTCQMHIETAWSWQKILCSSSGTDQSECKNNAQMVFSAQLHPDSELQDPWDFFNIQIEAYAIRPMHYDLESWFFASSPYYPMNHQTRRTREKLCSLRMIWVLVYMVQFCRWNRNMSDMWNCKPDFPMPGVEYGAPALQTHMQVYNIELKRVETSGNAFKIDIQKYYGVASCIIQYEVMRVYFHNIYAPCLVPTQYYNANKNSDAKSEDTRHHLSPVNRTKQHLHFGKDETLDDYGSGLFGKWHHTFAVGPFWAITEKADNKDRKWPSIEERGPWCFLPDRAIYYKSPCRTAVLSDTDVFIKEARNFEKKWNNHHHMHKQWAHVVYPFIMYMAELLYPYFGYEWDVGFWSKNTFYQAPNNEINGYNCSMTNSSEDCKEWQSRSEDQNCGTPNCCCIYQCMILYNPQLTIKKEDTHGLHQYPFYPVRGYPYVMRNQKAVDHWCAVQDCMHGMGHPPVGALRAPHD'"
   ]
  },
  {
   "cell_type": "code",
   "execution_count": 11,
   "metadata": {},
   "outputs": [],
   "source": [
    "mass = 0\n",
    "\n",
    "for a in aa: \n",
    "    mass += float(aa_mass[a])"
   ]
  },
  {
   "cell_type": "code",
   "execution_count": 12,
   "metadata": {},
   "outputs": [
    {
     "name": "stdout",
     "output_type": "stream",
     "text": [
      "104326.24171000054\n"
     ]
    }
   ],
   "source": [
    "print(mass)"
   ]
  },
  {
   "cell_type": "code",
   "execution_count": null,
   "metadata": {},
   "outputs": [],
   "source": []
  }
 ],
 "metadata": {
  "kernelspec": {
   "display_name": "Python 3",
   "language": "python",
   "name": "python3"
  },
  "language_info": {
   "codemirror_mode": {
    "name": "ipython",
    "version": 3
   },
   "file_extension": ".py",
   "mimetype": "text/x-python",
   "name": "python",
   "nbconvert_exporter": "python",
   "pygments_lexer": "ipython3",
   "version": "3.7.3"
  }
 },
 "nbformat": 4,
 "nbformat_minor": 2
}
