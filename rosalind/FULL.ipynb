{
 "cells": [
  {
   "cell_type": "code",
   "execution_count": 1,
   "metadata": {},
   "outputs": [],
   "source": [
    "aa = {\n",
    "\"A\": 71.03711,\n",
    "\"C\": 103.00919,\n",
    "\"D\": 115.02694,\n",
    "\"E\": 129.04259,\n",
    "\"F\": 147.06841,\n",
    "\"G\": 57.02146,\n",
    "\"H\": 137.05891,\n",
    "\"I\": 113.08406,\n",
    "\"K\": 128.09496,\n",
    "\"L\": 113.08406,\n",
    "\"M\": 131.04049,\n",
    "\"N\": 114.04293,\n",
    "\"P\": 97.05276,\n",
    "\"Q\": 128.05858,\n",
    "\"R\": 156.10111,\n",
    "\"S\": 87.03203,\n",
    "\"T\": 101.04768,\n",
    "\"V\": 99.06841,\n",
    "\"W\": 186.07931,\n",
    "\"Y\": 163.06333\n",
    "}"
   ]
  },
  {
   "cell_type": "code",
   "execution_count": 5,
   "metadata": {},
   "outputs": [],
   "source": [
    "with open('FULL.txt', 'r') as f:\n",
    "    parent = float(f.readline())\n",
    "    mass = f.read().splitlines()\n",
    "mass = [float(m) for m in mass]"
   ]
  },
  {
   "cell_type": "code",
   "execution_count": 7,
   "metadata": {},
   "outputs": [
    {
     "name": "stdout",
     "output_type": "stream",
     "text": [
      "1988.21104821\n",
      "[610.391039105, 738.485999105, 766.492149105, 863.544909105, 867.528589105, 992.587499105, 995.623549105, 1120.6824591, 1124.6661391, 1221.7188991, 1249.7250491, 1377.8200091]\n"
     ]
    }
   ],
   "source": [
    "print(parent)\n",
    "print(mass)"
   ]
  },
  {
   "cell_type": "code",
   "execution_count": 8,
   "metadata": {},
   "outputs": [
    {
     "data": {
      "text/plain": [
       "[1377.8200091049998,\n",
       " 1249.725049105,\n",
       " 1221.718899105,\n",
       " 1124.666139105,\n",
       " 1120.682459105,\n",
       " 995.6235491049999,\n",
       " 992.5874991049999,\n",
       " 867.52858911,\n",
       " 863.5449091099999,\n",
       " 766.4921491099999,\n",
       " 738.48599911,\n",
       " 610.3910391099998]"
      ]
     },
     "execution_count": 8,
     "metadata": {},
     "output_type": "execute_result"
    }
   ],
   "source": [
    "[parent-m for m in mass]"
   ]
  },
  {
   "cell_type": "code",
   "execution_count": 13,
   "metadata": {},
   "outputs": [],
   "source": [
    "def spec(mass: [float]):\n",
    "    diff = []\n",
    "    for i in range(len(mass)-1):\n",
    "        diff.append(mass[i+1] - mass[i])\n",
    "    diff =[round(d, 4) for d in diff]\n",
    "    prt = ''\n",
    "    for d in diff:\n",
    "        for k, v in aa.items():\n",
    "            if  d == round(v, 4):\n",
    "                prt += k\n",
    "                break\n",
    "    return prt"
   ]
  },
  {
   "cell_type": "code",
   "execution_count": 14,
   "metadata": {},
   "outputs": [
    {
     "data": {
      "text/plain": [
       "'KPPK'"
      ]
     },
     "execution_count": 14,
     "metadata": {},
     "output_type": "execute_result"
    }
   ],
   "source": [
    "spec(mass)"
   ]
  }
 ],
 "metadata": {
  "kernelspec": {
   "display_name": "Python 3",
   "language": "python",
   "name": "python3"
  },
  "language_info": {
   "codemirror_mode": {
    "name": "ipython",
    "version": 3
   },
   "file_extension": ".py",
   "mimetype": "text/x-python",
   "name": "python",
   "nbconvert_exporter": "python",
   "pygments_lexer": "ipython3",
   "version": "3.7.3"
  }
 },
 "nbformat": 4,
 "nbformat_minor": 2
}
