{
 "cells": [
  {
   "cell_type": "code",
   "execution_count": 27,
   "metadata": {},
   "outputs": [],
   "source": [
    "import numpy as np"
   ]
  },
  {
   "cell_type": "markdown",
   "metadata": {},
   "source": [
    "Dynammic programming\n",
    "\n",
    "Very similar idea to longest common subsequence\n",
    "\n",
    "Any indel or substitution = +1\n",
    "\n",
    "Wagner-Fischer algo\n"
   ]
  },
  {
   "cell_type": "code",
   "execution_count": 78,
   "metadata": {},
   "outputs": [
    {
     "name": "stdout",
     "output_type": "stream",
     "text": [
      "['Rosalind_8227', 'Rosalind_9602']\n"
     ]
    }
   ],
   "source": [
    "##getting fasta in list format\n",
    "fa_id = []\n",
    "temp = ''\n",
    "for line in open('EDIT.txt'): \n",
    "    if line.startswith('>'):\n",
    "        fa_id.append(line.strip()[1:])\n",
    "        temp +='>'\n",
    "    else: \n",
    "        temp += line.strip()\n",
    "fa_seq = temp.split('>')[1:]\n",
    "\n",
    "print(fa_id)\n",
    "# print(fa_seq)"
   ]
  },
  {
   "cell_type": "code",
   "execution_count": 79,
   "metadata": {},
   "outputs": [],
   "source": [
    "s1 = fa_seq[0]\n",
    "s2 = fa_seq[1]\n"
   ]
  },
  {
   "cell_type": "code",
   "execution_count": 93,
   "metadata": {},
   "outputs": [],
   "source": [
    "def wf(s1,s2):\n",
    "    m = np.zeros((len(s1)+1, len(s2)+1))\n",
    "    m[:,0] = range(len(s1)+1)\n",
    "    m[0,:] = range(len(s2)+1)\n",
    "    for i in range(len(s1)): \n",
    "        for j in range(len(s2)):\n",
    "            if s1[i] == s2 [j]:\n",
    "                sub = 0\n",
    "            else: \n",
    "                sub = 1\n",
    "            m[i+1,j+1] = min(m[i,j+1]+1, m[i+1,j]+1, m[i,j]+sub)   \n",
    "    return(m[i,j])"
   ]
  },
  {
   "cell_type": "code",
   "execution_count": 94,
   "metadata": {},
   "outputs": [
    {
     "name": "stdout",
     "output_type": "stream",
     "text": [
      "array([[  0.,   1.,   2., ..., 867., 868., 869.],\n",
      "       [  1.,   0.,   1., ..., 866., 867., 868.],\n",
      "       [  2.,   1.,   0., ..., 865., 866., 867.],\n",
      "       ...,\n",
      "       [889., 888., 887., ..., 401., 402., 403.],\n",
      "       [890., 889., 888., ..., 402., 401., 402.],\n",
      "       [891., 890., 889., ..., 403., 402., 401.]])\n",
      "CPU times: user 1.44 s, sys: 4.42 ms, total: 1.45 s\n",
      "Wall time: 1.45 s\n"
     ]
    },
    {
     "data": {
      "text/plain": [
       "401.0"
      ]
     },
     "execution_count": 94,
     "metadata": {},
     "output_type": "execute_result"
    }
   ],
   "source": [
    "%%time \n",
    "wf(s1, s2)"
   ]
  },
  {
   "cell_type": "code",
   "execution_count": 92,
   "metadata": {},
   "outputs": [],
   "source": [
    "import pprint\n"
   ]
  },
  {
   "cell_type": "code",
   "execution_count": null,
   "metadata": {},
   "outputs": [],
   "source": []
  }
 ],
 "metadata": {
  "kernelspec": {
   "display_name": "Python 3",
   "language": "python",
   "name": "python3"
  },
  "language_info": {
   "codemirror_mode": {
    "name": "ipython",
    "version": 3
   },
   "file_extension": ".py",
   "mimetype": "text/x-python",
   "name": "python",
   "nbconvert_exporter": "python",
   "pygments_lexer": "ipython3",
   "version": "3.7.3"
  }
 },
 "nbformat": 4,
 "nbformat_minor": 2
}
