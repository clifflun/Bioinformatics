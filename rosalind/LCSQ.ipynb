{
 "cells": [
  {
   "cell_type": "markdown",
   "metadata": {},
   "source": [
    "This is basically the most bare bones dynamic programming solution. \n",
    "\n",
    "1. Create scoring matrix accroding to the rules\n",
    "2. Backtrack the sequence\n",
    "\n",
    "Rules:\n",
    "\n",
    "if match: +1 to top-left diagonal\n",
    "if not match : max(top, left)\n",
    "\n",
    "Backtrack:\n",
    "\n",
    "find the matches == find the cell that was +1 from diagonal\n",
    "\n",
    "The property the matched cell is that ***BOTH*** top and left cells have to be -1 of current cell "
   ]
  },
  {
   "cell_type": "code",
   "execution_count": 1,
   "metadata": {},
   "outputs": [],
   "source": [
    "import numpy as np"
   ]
  },
  {
   "cell_type": "code",
   "execution_count": 19,
   "metadata": {},
   "outputs": [
    {
     "name": "stdout",
     "output_type": "stream",
     "text": [
      "['Rosalind_5660', 'Rosalind_5070']\n",
      "['ACCTAGCCGGTTCCTTTTAAGCAGCGGTATTATTGCGGTGCTAGGCAGGTGATCGCCGTCGTATGAGAGCGGACGCTTCACCTTCAAATAATGATGTGGAATGAGAGTACAATCTTGCTATCAGAAGCCCCTACACTTATACTTGCGTCTTAAATTAACCGGTCTGTGGTAAATTACTAGGCGTAGGTCCAACCAGAACATTCAGTCCCTAGATAGTGAAATGACGTTTGCATGAGATGTAATGAAGGATCACACTAGATAGTGGGGAATTGACACAGGACATCCGCCGGGCTCACGTGGAGTGTGCCGGCTGGCATCTACAGCTTGTTTTCGAGAAAATTCAAAATAAAGGGCCGACTATCTTCCAAGGGGAACGGCTATGACTCTCGATAGTAAGGATTGTGCTGTCGGACCAGCCCACGGGCCAGTTATTCTTAGTGCTGCAGGGGTCACCCTCGGGCACATTAGCGGTGTCCGTACGGGCAACGCAAAGCATACGTGTGCCCTAAACTTCGGAACGTAGGAACGAGGAATACCATATGGGTTGTGGCTTGCACATTTGTTTTTAAATTTCATTTCCCGATCGTGCCCTGTTGCCGCCGTGCGCAACTAGCCAATACCGGAAAAACATGTGCTCAACTTGCCCGTAAGGATGCCACCTTGTACGGAGGGTACCCATCCCATTGGCTGATTTCTCCTCAACAGGCTCTTGGTCGGGACCACCACCGTGCATCTTTTAAACAAGCTCGTTGAGACAAATGGGCGTTGGACTCCAAAGGGCGATTACCGCCTACCCGGTCACATAGGTTCGAGCCAATGGATCATTTACGGATAATCACTGAGCCATACGTCCATCGCGTG', 'TGAAGAATGACCACTCTACCGCAGTAAGCCGTGACGGAACACACTTACGACAGTTCTAACTGAGGTAGAAGCCCGTATAACAAGTACTCGGTCTTTATAAGTGTTTAGCTTTAGAAATATCATGGTTGGACTCCGCGAAGTTGAATGGACAGCTAACTATCAGGAATAACACGTGAGCTACCGTCTCACGCATTGAAGATTAGGGAAATATGCGCATTTCAGCGGTGCGAATTAAAACGGAAAATTCTGTCGCACCACCGGGTCCCATATTCTAAGCCCTAGTTCTAGCAGTACTATAAGTCTTCTCGTATATCGGACCCATCCAGTAGTACAGTGAAGGTGGGGCGCCCCTAGATTGAATACGTCTGTTATTCATCTACGTTATACGAACTCATATGAGCCGGTTGAGCAAAAGCACACCCGTAAGAGCTAGCAATACTATAATCCGGAGAGTCCTGACACTAATACTTTACATAGGGTTCAGTCCGTCGGAGATGCTGCACCGAGGTTTGCAGCTTTCCTAACACATCAGGGGGGTAAATACTCCACCTGATGCCGCGTATGGTCTCTGAACGCGGTCATTGCGGTTAGCAACTTCGCAGGAGGCTTCAATATATTAATGTCCTCCGTTAGACACTTTGCCTGACAGGGCATTAGTGTACCAGTCCGATCAGATAGGCGCCGGCTCGTACTACCAGGGCACTCCGTCGTTTGTAGAATGCAGAAGGCATCCCGCGTTTAAGTTGTTGATCGAATGGTCCTCGCAACGAGCATCAGGATGTCGGACCGTCCCGACATGCTCTTAGTGACATGTCGCGGCTTTCAAAACCGTTGCTCGGCCCGGGTGTGCTACGGGACCATCATCATAGGTCAATCGATTGCTTGCTGAAAGTGTAAGGGGGTGGCACGGTGACTGTAC']\n"
     ]
    }
   ],
   "source": [
    "##getting fasta in list format\n",
    "fa_id = []\n",
    "temp = ''\n",
    "for line in open('LCSQ.txt'): \n",
    "    if line.startswith('>'):\n",
    "        fa_id.append(line.strip()[1:])\n",
    "        temp +='>'\n",
    "    else: \n",
    "        temp += line.strip()\n",
    "fa_seq = temp.split('>')[1:]\n",
    "\n",
    "print(fa_id)\n",
    "print(fa_seq)"
   ]
  },
  {
   "cell_type": "code",
   "execution_count": 33,
   "metadata": {},
   "outputs": [],
   "source": [
    "s1 = 'PLEASANTLY'\n",
    "s2 = 'MEANLY'"
   ]
  },
  {
   "cell_type": "code",
   "execution_count": 34,
   "metadata": {},
   "outputs": [],
   "source": [
    "def backtrack(s1, s2):\n",
    "    ## generating scoring matrix\n",
    "    m = np.zeros((len(s1)+1, len(s2)+1))\n",
    "    for i in range(len(s1)):\n",
    "        for j in range(len(s2)):\n",
    "            if s1[i] == s2[j]:\n",
    "                m[i+1,j+1] = m[i,j] +1 # +1 from top-left, matched\n",
    "            else:\n",
    "                m[i+1,j+1] = max(m[i,j+1], m[i+1, j]) # max(top, left), not matched\n",
    "\n",
    "    print(m)\n",
    "    ## backtracking\n",
    "    \n",
    "    ## finding starting index\n",
    "    start = np.where(m == m.max()) #start from highest score\n",
    "    i = start[0][-1]\n",
    "    j = start[1][-1]\n",
    "#     print(i,j)\n",
    "    \n",
    "    lcs = ''\n",
    "    while i!=0 and j!=0:\n",
    "        if m[i-1,j] == m[i,j]: #move to the next cell\n",
    "            i -= 1\n",
    "        elif m[i,j-1] == m[i,j]:\n",
    "            j -= 1\n",
    "        elif m[i-1,j] == m[i,j-1]: # apppend nucleotide if found diagonal cell\n",
    "            lcs += s1[i-1]\n",
    "            i -= 1\n",
    "            j -= 1\n",
    "    print(lcs[::-1])"
   ]
  },
  {
   "cell_type": "code",
   "execution_count": 40,
   "metadata": {},
   "outputs": [
    {
     "name": "stdout",
     "output_type": "stream",
     "text": [
      "[[0. 0. 0. 0. 0. 0. 0.]\n",
      " [0. 0. 0. 0. 0. 0. 0.]\n",
      " [0. 0. 0. 0. 0. 1. 1.]\n",
      " [0. 0. 1. 1. 1. 1. 1.]\n",
      " [0. 0. 1. 2. 2. 2. 2.]\n",
      " [0. 0. 1. 2. 2. 2. 2.]\n",
      " [0. 0. 1. 2. 2. 2. 2.]\n",
      " [0. 0. 1. 2. 3. 3. 3.]\n",
      " [0. 0. 1. 2. 3. 3. 3.]\n",
      " [0. 0. 1. 2. 3. 4. 4.]\n",
      " [0. 0. 1. 2. 3. 4. 5.]]\n",
      "EANLY\n",
      "CPU times: user 1.2 ms, sys: 231 µs, total: 1.43 ms\n",
      "Wall time: 1.22 ms\n"
     ]
    }
   ],
   "source": [
    "%%time\n",
    "backtrack(s1, s2)"
   ]
  },
  {
   "cell_type": "code",
   "execution_count": 41,
   "metadata": {},
   "outputs": [
    {
     "name": "stdout",
     "output_type": "stream",
     "text": [
      "PLEASANTLY MEANLY\n"
     ]
    }
   ],
   "source": [
    "print(s1, s2)"
   ]
  },
  {
   "cell_type": "code",
   "execution_count": null,
   "metadata": {},
   "outputs": [],
   "source": []
  }
 ],
 "metadata": {
  "kernelspec": {
   "display_name": "Python 3",
   "language": "python",
   "name": "python3"
  },
  "language_info": {
   "codemirror_mode": {
    "name": "ipython",
    "version": 3
   },
   "file_extension": ".py",
   "mimetype": "text/x-python",
   "name": "python",
   "nbconvert_exporter": "python",
   "pygments_lexer": "ipython3",
   "version": "3.7.3"
  }
 },
 "nbformat": 4,
 "nbformat_minor": 2
}
