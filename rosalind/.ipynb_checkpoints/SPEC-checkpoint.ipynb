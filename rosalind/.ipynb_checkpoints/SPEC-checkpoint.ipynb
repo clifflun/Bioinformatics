{
 "cells": [
  {
   "cell_type": "code",
   "execution_count": 53,
   "metadata": {},
   "outputs": [],
   "source": [
    "aa = {\n",
    "\"A\": 71.03711,\n",
    "\"C\": 103.00919,\n",
    "\"D\": 115.02694,\n",
    "\"E\": 129.04259,\n",
    "\"F\": 147.06841,\n",
    "\"G\": 57.02146,\n",
    "\"H\": 137.05891,\n",
    "\"I\": 113.08406,\n",
    "\"K\": 128.09496,\n",
    "\"L\": 113.08406,\n",
    "\"M\": 131.04049,\n",
    "\"N\": 114.04293,\n",
    "\"P\": 97.05276,\n",
    "\"Q\": 128.05858,\n",
    "\"R\": 156.10111,\n",
    "\"S\": 87.03203,\n",
    "\"T\": 101.04768,\n",
    "\"V\": 99.06841,\n",
    "\"W\": 186.07931,\n",
    "\"Y\": 163.06333\n",
    "}"
   ]
  },
  {
   "cell_type": "code",
   "execution_count": 54,
   "metadata": {},
   "outputs": [
    {
     "data": {
      "text/plain": [
       "101"
      ]
     },
     "execution_count": 54,
     "metadata": {},
     "output_type": "execute_result"
    }
   ],
   "source": [
    "with open('SPEC.txt', 'r') as f:\n",
    "    lines = f.read().splitlines()\n",
    "mass = [float(l) for l in lines]\n",
    "len(mass)"
   ]
  },
  {
   "cell_type": "code",
   "execution_count": 63,
   "metadata": {},
   "outputs": [],
   "source": [
    "def spec(mass: [float]):\n",
    "    diff = []\n",
    "    for i in range(len(mass)-1):\n",
    "        diff.append(mass[i+1] - mass[i])\n",
    "    diff =[round(d, 4) for d in diff]\n",
    "    prt = ''\n",
    "    for d in diff:\n",
    "        for k, v in aa.items():\n",
    "            if  d == round(v,4):\n",
    "                prt += k\n",
    "                break\n",
    "    return prt"
   ]
  },
  {
   "cell_type": "code",
   "execution_count": 64,
   "metadata": {},
   "outputs": [],
   "source": [
    "prt = spec(mass)"
   ]
  },
  {
   "cell_type": "code",
   "execution_count": 65,
   "metadata": {},
   "outputs": [
    {
     "data": {
      "text/plain": [
       "100"
      ]
     },
     "execution_count": 65,
     "metadata": {},
     "output_type": "execute_result"
    }
   ],
   "source": [
    "len(prt)"
   ]
  },
  {
   "cell_type": "code",
   "execution_count": 66,
   "metadata": {},
   "outputs": [
    {
     "data": {
      "text/plain": [
       "'GIFYIHKFMEQDWCVEISKAYDMMRKERNIAIFGCGCCIEPVNAIPYEQDSTDVYGVSFIECPQNNIMSQTMKQSFGRQQKKANCRNCRCIIYNIGVNTM'"
      ]
     },
     "execution_count": 66,
     "metadata": {},
     "output_type": "execute_result"
    }
   ],
   "source": [
    "prt"
   ]
  },
  {
   "cell_type": "code",
   "execution_count": null,
   "metadata": {},
   "outputs": [],
   "source": []
  }
 ],
 "metadata": {
  "kernelspec": {
   "display_name": "Python 3",
   "language": "python",
   "name": "python3"
  },
  "language_info": {
   "codemirror_mode": {
    "name": "ipython",
    "version": 3
   },
   "file_extension": ".py",
   "mimetype": "text/x-python",
   "name": "python",
   "nbconvert_exporter": "python",
   "pygments_lexer": "ipython3",
   "version": "3.7.3"
  }
 },
 "nbformat": 4,
 "nbformat_minor": 2
}
