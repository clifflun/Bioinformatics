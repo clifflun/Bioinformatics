{
 "cells": [
  {
   "cell_type": "markdown",
   "metadata": {},
   "source": [
    "This is backtracing the edit distance matrix to generate the alignment\n",
    "\n",
    "There are multiple optimal alignments, this will only provide one solution to the problem. \n",
    "\n",
    "Branches are not included this is solution.\n"
   ]
  },
  {
   "cell_type": "code",
   "execution_count": 1,
   "metadata": {},
   "outputs": [],
   "source": [
    "import numpy as np\n",
    "import EDIT\n",
    "import HAMM"
   ]
  },
  {
   "cell_type": "code",
   "execution_count": 2,
   "metadata": {},
   "outputs": [
    {
     "name": "stdout",
     "output_type": "stream",
     "text": [
      "['Rosalind_7944', 'Rosalind_9954']\n"
     ]
    }
   ],
   "source": [
    "##getting fasta in list format\n",
    "fa_id = []\n",
    "temp = ''\n",
    "for line in open('EDTA.txt'): \n",
    "    if line.startswith('>'):\n",
    "        fa_id.append(line.strip()[1:])\n",
    "        temp +='>'\n",
    "    else: \n",
    "        temp += line.strip()\n",
    "fa_seq = temp.split('>')[1:]\n",
    "\n",
    "print(fa_id)\n",
    "# print(fa_seq)"
   ]
  },
  {
   "cell_type": "code",
   "execution_count": 3,
   "metadata": {},
   "outputs": [],
   "source": [
    "# ##nw algo =/= edta\n",
    "\n",
    "# def nw(s1, s2, match: int = 1, mismatch: int = -1, indel: int = -1):\n",
    "#     ## generating scoring matrix\n",
    "#     m = np.zeros((len(s1)+1, len(s2)+1))\n",
    "#     m[:,0] = range(0, (len(s1)+1)*-1, -1)\n",
    "#     m[0,:] = range(0, (len(s2)+1)*-1, -1)\n",
    "#     for i in range(len(s1)):\n",
    "#         for j in range(len(s2)):\n",
    "#             if s1[i] == s2[j]:\n",
    "#                 score = match\n",
    "#             else:\n",
    "#                 score = mismatch\n",
    "#             m[i+1, j+1] = max(m[i+1,j]+indel, m[i,j+1]+indel, m[i,j]+score)\n",
    "# #     print(m)\n",
    "#     ##bactrack for optimal alignment\n",
    "#     i = m.shape[0] - 1\n",
    "#     j = m.shape[1] - 1\n",
    "#     aln1 = ''\n",
    "#     aln2 = ''\n",
    "# #     print(m[i,j])\n",
    "#     while i > 0 or j > 0: \n",
    "# #         print(i,j)\n",
    "#         left = m[i,j-1]\n",
    "#         top = m[i-1,j]\n",
    "#         topleft = m[i-1,j-1]\n",
    "#         cur = m[i,j]\n",
    "# #         print(left, topleft, left, cur)\n",
    "#         if cur == topleft + match and topleft == max(left, top, topleft):\n",
    "#             aln1 += s1[i-1]\n",
    "#             aln2 += s2[j-1]\n",
    "#             i-=1\n",
    "#             j-=1\n",
    "# #             print('match')\n",
    "#         elif topleft == max(left, top, topleft):\n",
    "#             aln1 += s1[i-1]\n",
    "#             aln2 += s2[j-1]\n",
    "#             i-=1\n",
    "#             j-=1\n",
    "# #             print('mismatch')\n",
    "#         elif left > top:\n",
    "#             aln1 += '-'\n",
    "#             aln2 += s2[j-1]\n",
    "#             j-=1\n",
    "# #             print('indel 1')\n",
    "#         else:\n",
    "#             aln1 += s1[i-1]\n",
    "#             aln2 += '-'\n",
    "#             i-=1\n",
    "# #             print('indel 2')\n",
    "#     return aln1[::-1], aln2[::-1]\n",
    "        "
   ]
  },
  {
   "cell_type": "code",
   "execution_count": 4,
   "metadata": {},
   "outputs": [],
   "source": [
    "s1 = fa_seq[0]\n",
    "s2 = fa_seq[1]"
   ]
  },
  {
   "cell_type": "code",
   "execution_count": 11,
   "metadata": {},
   "outputs": [],
   "source": [
    "## getting edit distance matrix from before\n",
    "m = EDIT.wf(s1,s2)"
   ]
  },
  {
   "cell_type": "code",
   "execution_count": 7,
   "metadata": {},
   "outputs": [],
   "source": [
    "def edta(s1, s2, m):\n",
    "    i = len(s1)\n",
    "    j = len(s2)\n",
    "    aln1 = ''\n",
    "    aln2 = ''\n",
    "    while i != 0 and j != 0:\n",
    "        left = m[i,j-1]\n",
    "        top = m[i-1,j]\n",
    "        diag = m[i-1,j-1]\n",
    "        _min = min(left, top, diag)\n",
    "        if diag == _min: #prioritize diagonal (match and mismatch)\n",
    "            aln1 += s1[i-1]\n",
    "            aln2 += s2[j-1]\n",
    "            i-=1\n",
    "            j-=1\n",
    "        elif top == _min: #insert in s2\n",
    "            aln1 += s1[i-1]\n",
    "            aln2 += '-'\n",
    "            i-=1\n",
    "        else:            # insert in s1\n",
    "            aln1 += '-'\n",
    "            aln2 += s2[j-1]\n",
    "            j-=1\n",
    "    aln1 = aln1[::-1]\n",
    "    aln2 = aln2[::-1]\n",
    "    \n",
    "    return aln1, aln2"
   ]
  },
  {
   "cell_type": "code",
   "execution_count": 12,
   "metadata": {},
   "outputs": [
    {
     "name": "stdout",
     "output_type": "stream",
     "text": [
      "376\n",
      "TQPMQLCAWCLKEIFRW-----EMSKWHQCN-----Y--TLVN----HCA--GSPLRPDWEMQYGMNGLRFWKDFFFYQQDATDDAVRRRIV---SKGKWRDADSRLY--AII-TVGFGMWRTGIPYRKNHFAEYDAKRDWFRFDIIRGSFQFWASYIDDKYFIHQHKAFAAKWEINQSAPGECHRDFLYTRPDEHAWKSWWEMSGWCWNAPKQTNWAREPNQDFSDDWFMCYFGHSGLQVSYECCMWWFYTWRFTNKYNITPWMAVVMQDIGQGQGFCLAARVIFEEQRLEHPNSNRFEAKDTPQSQCFYFM----A-SW--HYMG-----R---DIMKTSHRRNSRNQDLVMVAPVTVMMNYLIH-VHEETP-CEMNQIEQFLRYVMHPVVGLSYPHSF------M-RGILYNPKPLIHSDTEWFWALSG-----CWKRHEFIGRP-VDM---SCDCLWHFSNKLKPTTIVKYQLVGESYCTPGSVAEKAFCECYAAIHQW-VNGHQCVPHRD-D-SICTK---VMYPLSAPMQA-------YYMAMQNIHQQT-KVPQSNGTHWFLHYPRIYGITWQE-WKMECEHSQSSWYKVVFMDTMFVYGDLNTRDMTYSSWHCRHLTNQTTYDTAHVKSSHLGWMEQFRPRTQKNTGQSVCGSWLPIMEICSP--LQ-NHV-M---S---AWR----M-GIWFWITLFNCTTVFLCFAIRVKWTFQEKTHNHM-SDFYTKHTHDWPTCCAIWRPMVLRMSLCDQRHERHGRFMFKKFICLQNSVPYMIHMMT----AYCQGNIMMLDVHSIPKFTGVFYNERPDHW---YM--TWT-DNKAVWMA-EVMWKNSAVIPACCPVLMPWNAEELSYDVVMACANKFVK----IGMTEDWQASICQWFMWQGTGRKTDAWSKEIQGSQPNCWCVECYDCG\n",
      "TCAMQLCAWCLKEIFRWIPYTMEMSKWIQCNESHKSYEETLVNNPKWKMAWAGSPLRPDWEM----NGLR-----------ATDDAVRRRIVAYYAKGKWRDTDSRLYQQEIIIEVGFGQWRTGIPYR------VDSHRIWFRFDIIRGS--------DDKY---QHKAFAAKWEINQSAMGLCHRD--QCKQD---LKSWWEMSGWC--TIWAASYSREPNQDF--IRPMCY--VSGLQ-FY---TWLGPPCGFTN----TPWM------RGQG--FCLAARVIFWEQRMEHPNSQRFEAKDTPQSQCFYFMQDRVANHWQWHYRGDSKWQRCMQDIAKTSHRRNSRNQDLVMVAPVTVMANYLQHHVHEETPGQFWRYVMGYLQLYFESVVGLFYPHSFPHFPHDMLRGILYNP-----SCTEWFWALSGVVGIHRWKRHEFIGRPTMNMPMMFRDCKSHFSNKLKALSVSAFGWTTIVKCTPGSVAEKAFCECYAAIHHWIWRGYGPKSWRDFDDSICPKACAKMYPLSAHMQACQREVQWTYMAMQNKVCYTWSVRCSCGTHWFLHYPRIYRIT-QEEWKMECEQSQSSLYKVV--D-------LNTRDMTYSSWHCRHLTNQT--DTAHVKSS--GWMEQDRPRTQK-PCTKARPHWLPIMEICSPKEIQVRIVIMCCRSVMNAWRAEAHMMGIWFTQTLQNC--MF---APRVKWTFQEKTHNHMMTDFYTKHTHDW-------R-M----SLCDQMHERHGRFMFSKFICL-----YMIHMMTIWEEAYCQGNI--------PKVTGVFFNEKPDHWRKFCMVCTWTRITKAVWMALLLMPWN-A-EELETP--M---IQKYPYDVVMACANKFVKSWLGIGMTEDWQASICQWFMHQHTGRKTDAYSKFIQGSQPNCWWVECYDCG\n"
     ]
    }
   ],
   "source": [
    "aln1, aln2 = edta(s1, s2, m)\n",
    "print(HAMM.main(aln1, aln2))\n",
    "print(aln1)\n",
    "print(aln2)"
   ]
  }
 ],
 "metadata": {
  "kernelspec": {
   "display_name": "Python 3",
   "language": "python",
   "name": "python3"
  },
  "language_info": {
   "codemirror_mode": {
    "name": "ipython",
    "version": 3
   },
   "file_extension": ".py",
   "mimetype": "text/x-python",
   "name": "python",
   "nbconvert_exporter": "python",
   "pygments_lexer": "ipython3",
   "version": "3.7.3"
  }
 },
 "nbformat": 4,
 "nbformat_minor": 2
}
