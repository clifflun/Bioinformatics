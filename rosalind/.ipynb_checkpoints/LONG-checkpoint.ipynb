{
 "cells": [
  {
   "cell_type": "code",
   "execution_count": 5,
   "metadata": {},
   "outputs": [],
   "source": [
    "import math\n"
   ]
  },
  {
   "cell_type": "code",
   "execution_count": 2,
   "metadata": {},
   "outputs": [
    {
     "name": "stdout",
     "output_type": "stream",
     "text": [
      "['Rosalind_56', 'Rosalind_57', 'Rosalind_58', 'Rosalind_59']\n",
      "['ATTAGACCTG', 'CCTGCCGGAA', 'AGACCTGCCG', 'GCCGGAATAC']\n"
     ]
    }
   ],
   "source": [
    "##getting fasta in list format\n",
    "fa_id = []\n",
    "temp = ''\n",
    "for line in open('LONG.txt'): \n",
    "    if line.startswith('>'):\n",
    "        fa_id.append(line.strip()[1:])\n",
    "        temp +='>'\n",
    "    else: \n",
    "        temp += line.strip()\n",
    "fa_seq = temp.split('>')[1:]\n",
    "\n",
    "print(fa_id)\n",
    "print(fa_seq)"
   ]
  },
  {
   "cell_type": "code",
   "execution_count": 9,
   "metadata": {},
   "outputs": [
    {
     "name": "stdout",
     "output_type": "stream",
     "text": [
      "ATTAG\n",
      "ATTAGA\n",
      "ATTAGAC\n",
      "ATTAGACC\n",
      "ATTAGACCT\n",
      "CCTGC\n",
      "CCTGCC\n",
      "CCTGCCG\n",
      "CCTGCCGG\n",
      "CCTGCCGGA\n",
      "AGACC\n",
      "AGACCT\n",
      "AGACCTG\n",
      "AGACCTGC\n",
      "AGACCTGCC\n",
      "GCCGG\n",
      "GCCGGA\n",
      "GCCGGAA\n",
      "GCCGGAAT\n",
      "GCCGGAATA\n"
     ]
    }
   ],
   "source": [
    "for s in fa_seq:\n",
    "    half = math.floor(len(s)/2)\n",
    "    for i in range(half,len(s)):\n",
    "        print(s[:i])"
   ]
  },
  {
   "cell_type": "code",
   "execution_count": null,
   "metadata": {},
   "outputs": [],
   "source": []
  }
 ],
 "metadata": {
  "kernelspec": {
   "display_name": "Python 3",
   "language": "python",
   "name": "python3"
  },
  "language_info": {
   "codemirror_mode": {
    "name": "ipython",
    "version": 3
   },
   "file_extension": ".py",
   "mimetype": "text/x-python",
   "name": "python",
   "nbconvert_exporter": "python",
   "pygments_lexer": "ipython3",
   "version": "3.7.3"
  }
 },
 "nbformat": 4,
 "nbformat_minor": 2
}
