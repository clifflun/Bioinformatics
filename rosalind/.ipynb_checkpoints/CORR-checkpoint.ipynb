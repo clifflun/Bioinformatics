{
 "cells": [
  {
   "cell_type": "code",
   "execution_count": 11,
   "metadata": {},
   "outputs": [],
   "source": [
    "import REVC\n",
    "import HAMM"
   ]
  },
  {
   "cell_type": "code",
   "execution_count": 1,
   "metadata": {},
   "outputs": [
    {
     "name": "stdout",
     "output_type": "stream",
     "text": [
      "['Rosalind_52', 'Rosalind_44', 'Rosalind_68', 'Rosalind_28', 'Rosalind_95', 'Rosalind_66', 'Rosalind_33', 'Rosalind_21', 'Rosalind_18']\n",
      "['TCATC', 'TTCAT', 'TCATC', 'TGAAA', 'GAGGA', 'TTTCA', 'ATCAA', 'TTGAT', 'TTTCC']\n"
     ]
    }
   ],
   "source": [
    "##getting fasta in list format\n",
    "fa_id = []\n",
    "temp = ''\n",
    "for line in open('CORR.txt'): \n",
    "    if line.startswith('>'):\n",
    "        fa_id.append(line.strip()[1:])\n",
    "        temp +='>'\n",
    "    else: \n",
    "        temp += line.strip()\n",
    "fa_seq = temp.split('>')[1:]\n",
    "\n",
    "print(fa_id)\n",
    "print(fa_seq)"
   ]
  },
  {
   "cell_type": "code",
   "execution_count": 8,
   "metadata": {},
   "outputs": [],
   "source": [
    "rev = [REVC.main(s) for s in fa_seq]\n",
    "count = {}\n",
    "\n",
    "for s in fa_seq:\n",
    "    count[s] = count.get(s, 0) +1\n",
    "for s in rev:\n",
    "    count[s] = count.get(s, 0) +1"
   ]
  },
  {
   "cell_type": "code",
   "execution_count": 29,
   "metadata": {},
   "outputs": [],
   "source": [
    "mismatch = []\n",
    "correct = []\n",
    "for k,v in count.items():\n",
    "    if v == 1 and k in fa_seq: \n",
    "        mismatch.append(k)\n",
    "    else:\n",
    "        correct.append(k)"
   ]
  },
  {
   "cell_type": "code",
   "execution_count": 33,
   "metadata": {},
   "outputs": [
    {
     "name": "stdout",
     "output_type": "stream",
     "text": [
      "TTCAT->TTGAT\n",
      "GAGGA->GATGA\n",
      "TTTCC->TTTCA\n"
     ]
    }
   ],
   "source": [
    "for m in mismatch:\n",
    "    for c in correct:\n",
    "        if HAMM.main(m, c) == 1: \n",
    "            print(f'{m}->{c}')"
   ]
  },
  {
   "cell_type": "code",
   "execution_count": null,
   "metadata": {},
   "outputs": [],
   "source": []
  }
 ],
 "metadata": {
  "kernelspec": {
   "display_name": "Python 3",
   "language": "python",
   "name": "python3"
  },
  "language_info": {
   "codemirror_mode": {
    "name": "ipython",
    "version": 3
   },
   "file_extension": ".py",
   "mimetype": "text/x-python",
   "name": "python",
   "nbconvert_exporter": "python",
   "pygments_lexer": "ipython3",
   "version": "3.7.3"
  }
 },
 "nbformat": 4,
 "nbformat_minor": 2
}
