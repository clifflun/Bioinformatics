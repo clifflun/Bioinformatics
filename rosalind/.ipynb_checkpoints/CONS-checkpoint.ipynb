{
 "cells": [
  {
   "cell_type": "code",
   "execution_count": 36,
   "metadata": {},
   "outputs": [],
   "source": [
    "##getting fasta in list format\n",
    "fa_id = []\n",
    "temp = ''\n",
    "for line in open('CONS.txt'): \n",
    "    if line.startswith('>'):\n",
    "        fa_id.append(line.strip()[1:])\n",
    "        temp +='>'\n",
    "    else: \n",
    "        temp += line.strip()\n",
    "fa_seq = temp.split('>')[1:]\n"
   ]
  },
  {
   "cell_type": "code",
   "execution_count": 37,
   "metadata": {},
   "outputs": [],
   "source": [
    "master_count = []\n",
    "for i in range(len(fa_seq[0])):\n",
    "    count_dic = {}\n",
    "    for j in range(len(fa_seq)):\n",
    "        aa = (fa_seq[j][i])\n",
    "        count_dic[aa] = count_dic.get(aa, 0)+1\n",
    "    master_count.append(count_dic)"
   ]
  },
  {
   "cell_type": "code",
   "execution_count": 50,
   "metadata": {},
   "outputs": [],
   "source": [
    "## output\n",
    "con = ''\n",
    "A = ''\n",
    "C = ''\n",
    "G = ''\n",
    "T = ''\n",
    "for pos in master_count:\n",
    "    con += (max(pos, key = pos.get))\n",
    "    A += str(pos.get('A', 0)) + ' '\n",
    "    C += str(pos.get('C', 0)) + ' '\n",
    "    G += str(pos.get('G', 0)) + ' '\n",
    "    T += str(pos.get('T', 0)) + ' '\n"
   ]
  },
  {
   "cell_type": "code",
   "execution_count": 52,
   "metadata": {},
   "outputs": [
    {
     "name": "stdout",
     "output_type": "stream",
     "text": [
      "ATGCAACT\n",
      "A: 5 1 0 0 5 5 0 0 \n",
      "C: 0 0 1 4 2 0 6 1 \n",
      "G: 1 1 6 3 0 1 0 0 \n",
      "T: 1 5 0 0 0 1 1 6 \n"
     ]
    }
   ],
   "source": [
    "print(con)\n",
    "print(f'A: {A}')\n",
    "print(f'C: {C}')\n",
    "print(f'G: {G}')\n",
    "print(f'T: {T}')"
   ]
  },
  {
   "cell_type": "code",
   "execution_count": null,
   "metadata": {},
   "outputs": [],
   "source": []
  }
 ],
 "metadata": {
  "kernelspec": {
   "display_name": "Python 3",
   "language": "python",
   "name": "python3"
  },
  "language_info": {
   "codemirror_mode": {
    "name": "ipython",
    "version": 3
   },
   "file_extension": ".py",
   "mimetype": "text/x-python",
   "name": "python",
   "nbconvert_exporter": "python",
   "pygments_lexer": "ipython3",
   "version": "3.7.3"
  }
 },
 "nbformat": 4,
 "nbformat_minor": 2
}
