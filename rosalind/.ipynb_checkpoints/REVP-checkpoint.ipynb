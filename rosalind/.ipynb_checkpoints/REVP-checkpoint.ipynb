{
 "cells": [
  {
   "cell_type": "code",
   "execution_count": 6,
   "metadata": {},
   "outputs": [],
   "source": [
    "import REVC"
   ]
  },
  {
   "cell_type": "code",
   "execution_count": 1,
   "metadata": {},
   "outputs": [
    {
     "name": "stdout",
     "output_type": "stream",
     "text": [
      "['Rosalind_24']\n",
      "['TCAATGCATGCGGGTCTATATGCAT']\n"
     ]
    }
   ],
   "source": [
    "##getting fasta in list format\n",
    "fa_id = []\n",
    "temp = ''\n",
    "for line in open('REVP.txt'): \n",
    "    if line.startswith('>'):\n",
    "        fa_id.append(line.strip()[1:])\n",
    "        temp +='>'\n",
    "    else: \n",
    "        temp += line.strip()\n",
    "fa_seq = temp.split('>')[1:]\n",
    "\n",
    "print(fa_id)\n",
    "print(fa_seq)"
   ]
  },
  {
   "cell_type": "code",
   "execution_count": 39,
   "metadata": {},
   "outputs": [],
   "source": [
    "##finding all restrictions sites of length 4\n",
    "rs4_sites=[]\n",
    "for i in range(0, len(fa_seq[0])): \n",
    "    temp = fa_seq[0][i:i+4]\n",
    "    if len(temp) < 4 or len(temp) > 12: \n",
    "        continue\n",
    "    if temp == REVC.main(temp): ##if equals to reverse complement\n",
    "        rs4_sites.append((i+1, len(temp)))\n"
   ]
  },
  {
   "cell_type": "code",
   "execution_count": 48,
   "metadata": {},
   "outputs": [
    {
     "data": {
      "text/plain": [
       "[(4, 6), (5, 4), (6, 6), (7, 4), (17, 4), (18, 4), (20, 6), (21, 4)]"
      ]
     },
     "execution_count": 48,
     "metadata": {},
     "output_type": "execute_result"
    }
   ],
   "source": [
    "##finding all RS up to length 12\n",
    "rs_sites_inclusive=[]\n",
    "for rs in rs4_sites:\n",
    "    s=rs[0]-1\n",
    "    e=rs[0]-1+rs[1]\n",
    "    while e-s< 12: #up to length 12\n",
    "#         print(s,e)\n",
    "        temp = fa_seq[0][s:e]\n",
    "        if temp == REVC.main(temp):\n",
    "            rs_sites_inclusive.append((s+1, len(temp)))\n",
    "        s -= 1 ##expanding window by 2\n",
    "        e += 1\n"
   ]
  },
  {
   "cell_type": "code",
   "execution_count": 49,
   "metadata": {},
   "outputs": [
    {
     "name": "stdout",
     "output_type": "stream",
     "text": [
      "4 6\n",
      "5 4\n",
      "6 6\n",
      "7 4\n",
      "17 4\n",
      "18 4\n",
      "20 6\n",
      "21 4\n"
     ]
    }
   ],
   "source": [
    "##output formatting\n",
    "for i in sorted(rs_sites_inclusive):\n",
    "    print(i[0], i[1])"
   ]
  },
  {
   "cell_type": "code",
   "execution_count": null,
   "metadata": {},
   "outputs": [],
   "source": []
  }
 ],
 "metadata": {
  "kernelspec": {
   "display_name": "Python 3",
   "language": "python",
   "name": "python3"
  },
  "language_info": {
   "codemirror_mode": {
    "name": "ipython",
    "version": 3
   },
   "file_extension": ".py",
   "mimetype": "text/x-python",
   "name": "python",
   "nbconvert_exporter": "python",
   "pygments_lexer": "ipython3",
   "version": "3.7.3"
  }
 },
 "nbformat": 4,
 "nbformat_minor": 2
}
