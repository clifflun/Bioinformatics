{
 "cells": [
  {
   "cell_type": "code",
   "execution_count": 87,
   "metadata": {},
   "outputs": [],
   "source": [
    "import re\n",
    "import REVC\n",
    "import RNA\n",
    "import PROT"
   ]
  },
  {
   "cell_type": "code",
   "execution_count": 93,
   "metadata": {},
   "outputs": [
    {
     "name": "stdout",
     "output_type": "stream",
     "text": [
      "['Rosalind_99']\n",
      "['AGCCATGTAGCTAACTCAGGTTACATGGGGATGACCCCGCGACTTGGATTAGAGTCTCTTTTGGAATAAGCCTGAATGATCCGAGTAGCATCTCAG']\n"
     ]
    }
   ],
   "source": [
    "##getting fasta in list format\n",
    "fa_id = []\n",
    "temp = ''\n",
    "for line in open('ORF.txt'): \n",
    "    if line.startswith('>'):\n",
    "        fa_id.append(line.strip()[1:])\n",
    "        temp +='>'\n",
    "    else: \n",
    "        temp += line.strip()\n",
    "fa_seq = temp.split('>')[1:]\n",
    "\n",
    "print(fa_id)\n",
    "print(fa_seq)"
   ]
  },
  {
   "cell_type": "code",
   "execution_count": 169,
   "metadata": {},
   "outputs": [],
   "source": [
    "##transcribing to mRNA\n",
    "revc = REVC.main(fa_seq[0])\n",
    "revc_trans = RNA.main(revc)\n",
    "forward_trans = RNA.main(fa_seq[0])\n",
    "\n",
    "seq = [forward_trans, revc_trans]"
   ]
  },
  {
   "cell_type": "code",
   "execution_count": 180,
   "metadata": {},
   "outputs": [],
   "source": [
    "aa=[]\n",
    "for se in seq:\n",
    "    ##finding start and stop codons positions\n",
    "    idx_start = re.finditer(r'AUG',se)\n",
    "    start=[]\n",
    "    for i in idx_start: \n",
    "        start.append(i.start())\n",
    "\n",
    "    # print(start)\n",
    "\n",
    "    ##finding closest in-frame stop codon\n",
    "    for s in start: \n",
    "        idx_stop = re.finditer('UAA|UAG|UGA',se[s:])\n",
    "        end=[]\n",
    "        for i in idx_stop: \n",
    "            end.append(i.start())\n",
    "        for e in end: \n",
    "            if e%3 == 0:\n",
    "                aa.append(PROT.translate(se[s:e+s])) ##saving all translated aa\n",
    "                break #stop when first stop codon found"
   ]
  },
  {
   "cell_type": "code",
   "execution_count": 182,
   "metadata": {},
   "outputs": [
    {
     "name": "stdout",
     "output_type": "stream",
     "text": [
      "MTPRLGLESLLE\n",
      "MGMTPRLGLESLLE\n",
      "MLLGSFRLIPKETLIQVAGSSPCNLS\n",
      "M\n"
     ]
    }
   ],
   "source": [
    "##remove duplicates using set\n",
    "for a in set(aa):\n",
    "    print(a)"
   ]
  }
 ],
 "metadata": {
  "kernelspec": {
   "display_name": "Python 3",
   "language": "python",
   "name": "python3"
  },
  "language_info": {
   "codemirror_mode": {
    "name": "ipython",
    "version": 3
   },
   "file_extension": ".py",
   "mimetype": "text/x-python",
   "name": "python",
   "nbconvert_exporter": "python",
   "pygments_lexer": "ipython3",
   "version": "3.7.3"
  }
 },
 "nbformat": 4,
 "nbformat_minor": 2
}
