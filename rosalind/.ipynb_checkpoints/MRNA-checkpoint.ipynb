{
 "cells": [
  {
   "cell_type": "code",
   "execution_count": 5,
   "metadata": {},
   "outputs": [],
   "source": [
    "codon ={\n",
    "    \"UUU\": \"F\",\n",
    "\"CUU\": \"L\",\n",
    "\"AUU\": \"I\",\n",
    "\"GUU\": \"V\",\n",
    "\"UUC\": \"F\",\n",
    "\"CUC\": \"L\",\n",
    "\"AUC\": \"I\",\n",
    "\"GUC\": \"V\",\n",
    "\"UUA\": \"L\",\n",
    "\"CUA\": \"L\",\n",
    "\"AUA\": \"I\",\n",
    "\"GUA\": \"V\",\n",
    "\"UUG\": \"L\",\n",
    "\"CUG\": \"L\",\n",
    "\"AUG\": \"M\",\n",
    "\"GUG\": \"V\",\n",
    "\"UCU\": \"S\",\n",
    "\"CCU\": \"P\",\n",
    "\"ACU\": \"T\",\n",
    "\"GCU\": \"A\",\n",
    "\"UCC\": \"S\",\n",
    "\"CCC\": \"P\",\n",
    "\"ACC\": \"T\",\n",
    "\"GCC\": \"A\",\n",
    "\"UCA\": \"S\",\n",
    "\"CCA\": \"P\",\n",
    "\"ACA\": \"T\",\n",
    "\"GCA\": \"A\",\n",
    "\"UCG\": \"S\",\n",
    "\"CCG\": \"P\",\n",
    "\"ACG\": \"T\",\n",
    "\"GCG\": \"A\",\n",
    "\"UAU\": \"Y\",\n",
    "\"CAU\": \"H\",\n",
    "\"AAU\": \"N\",\n",
    "\"GAU\": \"D\",\n",
    "\"UAC\": \"Y\",\n",
    "\"CAC\": \"H\",\n",
    "\"AAC\": \"N\",\n",
    "\"GAC\": \"D\",\n",
    "\"UAA\": \"Stop\",\n",
    "\"CAA\": \"Q\",\n",
    "\"AAA\": \"K\",\n",
    "\"GAA\": \"E\",\n",
    "\"UAG\": \"Stop\",\n",
    "\"CAG\": \"Q\",\n",
    "\"AAG\": \"K\",\n",
    "\"GAG\": \"E\",\n",
    "\"UGU\": \"C\",\n",
    "\"CGU\": \"R\",\n",
    "\"AGU\": \"S\",\n",
    "\"GGU\": \"G\",\n",
    "\"UGC\": \"C\",\n",
    "\"CGC\": \"R\",\n",
    "\"AGC\": \"S\",\n",
    "\"GGC\": \"G\",\n",
    "\"UGA\": \"Stop\",\n",
    "\"CGA\": \"R\",\n",
    "\"AGA\": \"R\",\n",
    "\"GGA\": \"G\",\n",
    "\"UGG\": \"W\",\n",
    "\"CGG\": \"R\",\n",
    "\"AGG\": \"R\",\n",
    "\"GGG\": \"G\"\n",
    "\n",
    "}"
   ]
  },
  {
   "cell_type": "code",
   "execution_count": 18,
   "metadata": {},
   "outputs": [
    {
     "data": {
      "text/plain": [
       "{'F': 2,\n",
       " 'L': 6,\n",
       " 'I': 3,\n",
       " 'V': 4,\n",
       " 'M': 1,\n",
       " 'S': 6,\n",
       " 'P': 4,\n",
       " 'T': 4,\n",
       " 'A': 4,\n",
       " 'Y': 2,\n",
       " 'H': 2,\n",
       " 'N': 2,\n",
       " 'D': 2,\n",
       " 'Stop': 3,\n",
       " 'Q': 2,\n",
       " 'K': 2,\n",
       " 'E': 2,\n",
       " 'C': 2,\n",
       " 'R': 6,\n",
       " 'G': 4,\n",
       " 'W': 1}"
      ]
     },
     "execution_count": 18,
     "metadata": {},
     "output_type": "execute_result"
    }
   ],
   "source": [
    "\n",
    "codon_count={}\n",
    "for i in codon.values():\n",
    "    codon_count[i] = codon_count.get(i, 0) +1\n",
    "codon_count"
   ]
  }
 ],
 "metadata": {
  "kernelspec": {
   "display_name": "Python 3",
   "language": "python",
   "name": "python3"
  },
  "language_info": {
   "codemirror_mode": {
    "name": "ipython",
    "version": 3
   },
   "file_extension": ".py",
   "mimetype": "text/x-python",
   "name": "python",
   "nbconvert_exporter": "python",
   "pygments_lexer": "ipython3",
   "version": "3.7.3"
  }
 },
 "nbformat": 4,
 "nbformat_minor": 2
}
