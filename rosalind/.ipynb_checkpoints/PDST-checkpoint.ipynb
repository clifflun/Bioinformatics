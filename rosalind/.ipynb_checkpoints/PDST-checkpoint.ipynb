{
 "cells": [
  {
   "cell_type": "code",
   "execution_count": 11,
   "metadata": {},
   "outputs": [],
   "source": [
    "import numpy as np"
   ]
  },
  {
   "cell_type": "code",
   "execution_count": 22,
   "metadata": {},
   "outputs": [],
   "source": [
    "##getting fasta in list format\n",
    "fa_id = []\n",
    "temp = ''\n",
    "for line in open('PDST.txt'): \n",
    "    if line.startswith('>'):\n",
    "        fa_id.append(line.strip()[1:])\n",
    "        temp +='>'\n",
    "    else: \n",
    "        temp += line.strip()\n",
    "fa_seq = temp.split('>')[1:]\n",
    "\n",
    "# print(fa_id)\n",
    "# print(fa_seq)"
   ]
  },
  {
   "cell_type": "code",
   "execution_count": 18,
   "metadata": {},
   "outputs": [],
   "source": [
    "def p_dis(s1,s2):\n",
    "    count_diff=0\n",
    "    for i,j in zip(s1, s2):\n",
    "        if i!=j:\n",
    "            count_diff+=1\n",
    "    return (count_diff/len(s1))"
   ]
  },
  {
   "cell_type": "code",
   "execution_count": 19,
   "metadata": {},
   "outputs": [],
   "source": [
    "m = np.zeros((len(fa_seq), len(fa_seq)))\n",
    "for i in range(len(fa_seq)):\n",
    "    for j in range(len(fa_seq)):\n",
    "        m[i,j] =p_dis(fa_seq[i], fa_seq[j])"
   ]
  },
  {
   "cell_type": "code",
   "execution_count": 21,
   "metadata": {},
   "outputs": [
    {
     "name": "stdout",
     "output_type": "stream",
     "text": [
      "0.00000 0.31313 0.52750 0.60494 0.60157 0.44332 0.33558 0.57351 0.48485 0.57688 \n",
      "0.31313 0.00000 0.43210 0.55443 0.55219 0.30752 0.49719 0.47587 0.29854 0.46465 \n",
      "0.52750 0.43210 0.00000 0.29854 0.30640 0.26487 0.60494 0.59147 0.53760 0.61055 \n",
      "0.60494 0.55443 0.29854 0.00000 0.45342 0.46352 0.65993 0.64310 0.61279 0.65208 \n",
      "0.60157 0.55219 0.30640 0.45342 0.00000 0.46465 0.65657 0.63075 0.61504 0.64871 \n",
      "0.44332 0.30752 0.26487 0.46352 0.46465 0.00000 0.53984 0.56341 0.47250 0.57464 \n",
      "0.33558 0.49719 0.60494 0.65993 0.65657 0.53984 0.00000 0.63412 0.58810 0.63075 \n",
      "0.57351 0.47587 0.59147 0.64310 0.63075 0.56341 0.63412 0.00000 0.30079 0.47475 \n",
      "0.48485 0.29854 0.53760 0.61279 0.61504 0.47250 0.58810 0.30079 0.00000 0.30191 \n",
      "0.57688 0.46465 0.61055 0.65208 0.64871 0.57464 0.63075 0.47475 0.30191 0.00000 \n"
     ]
    }
   ],
   "source": [
    "for a in m:\n",
    "    for b in a:\n",
    "        print(f'{b:.5f}', end=' ')\n",
    "    print()"
   ]
  },
  {
   "cell_type": "code",
   "execution_count": null,
   "metadata": {},
   "outputs": [],
   "source": []
  }
 ],
 "metadata": {
  "kernelspec": {
   "display_name": "Python 3",
   "language": "python",
   "name": "python3"
  },
  "language_info": {
   "codemirror_mode": {
    "name": "ipython",
    "version": 3
   },
   "file_extension": ".py",
   "mimetype": "text/x-python",
   "name": "python",
   "nbconvert_exporter": "python",
   "pygments_lexer": "ipython3",
   "version": "3.7.3"
  }
 },
 "nbformat": 4,
 "nbformat_minor": 2
}
