{
 "cells": [
  {
   "cell_type": "code",
   "execution_count": 2,
   "metadata": {},
   "outputs": [],
   "source": [
    "from Bio import Phylo\n",
    "import io"
   ]
  },
  {
   "cell_type": "code",
   "execution_count": 24,
   "metadata": {},
   "outputs": [],
   "source": [
    "#open file and parse data\n",
    "f = open('NKEW.txt','r')\n",
    "pairs = [i.split('\\n') for i in f.read().strip().split('\\n\\n')]\n"
   ]
  },
  {
   "cell_type": "code",
   "execution_count": 25,
   "metadata": {},
   "outputs": [],
   "source": [
    "dis=[]\n",
    "for i, line in pairs:\n",
    "    x,y = line.split()\n",
    "    tree = Phylo.read(io.StringIO(i),'newick')\n",
    "    clades = tree.find_clades()\n",
    "    dis.append((tree.distance(x,y)))\n",
    "dis = [round(i) for i in dis]"
   ]
  },
  {
   "cell_type": "code",
   "execution_count": 26,
   "metadata": {},
   "outputs": [
    {
     "data": {
      "text/plain": [
       "'1066 1153 654 1187 383 1212 643 528 1158 1031 731 362 743 643 484 679 1156 200 849 1232 1769 1073 1310 574 817 168 934 317 553 620 1525 918 851 1451 290 1097 250'"
      ]
     },
     "execution_count": 26,
     "metadata": {},
     "output_type": "execute_result"
    }
   ],
   "source": [
    "' '.join(map(str,dis))"
   ]
  },
  {
   "cell_type": "code",
   "execution_count": null,
   "metadata": {},
   "outputs": [],
   "source": [
    "\n"
   ]
  }
 ],
 "metadata": {
  "kernelspec": {
   "display_name": "Python 3",
   "language": "python",
   "name": "python3"
  },
  "language_info": {
   "codemirror_mode": {
    "name": "ipython",
    "version": 3
   },
   "file_extension": ".py",
   "mimetype": "text/x-python",
   "name": "python",
   "nbconvert_exporter": "python",
   "pygments_lexer": "ipython3",
   "version": "3.7.3"
  }
 },
 "nbformat": 4,
 "nbformat_minor": 2
}
