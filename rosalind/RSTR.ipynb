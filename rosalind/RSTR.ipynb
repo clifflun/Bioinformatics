{
 "cells": [
  {
   "cell_type": "code",
   "execution_count": 51,
   "metadata": {},
   "outputs": [],
   "source": [
    "with open('RSTR.txt', 'r') as f:\n",
    "    n, gc = f.readline().strip().split()\n",
    "    seq = f.readline().strip()\n",
    "n = int(n)\n",
    "gc = float(gc)"
   ]
  },
  {
   "cell_type": "code",
   "execution_count": 55,
   "metadata": {},
   "outputs": [],
   "source": [
    "def get_gc_prob(gc):\n",
    "    gc_prob ={}\n",
    "    gc_prob['A'] = (1-gc)/2\n",
    "    gc_prob['C'] = gc/2\n",
    "    gc_prob['G'] = gc/2\n",
    "    gc_prob['T'] = (1-gc)/2\n",
    "    return gc_prob"
   ]
  },
  {
   "cell_type": "code",
   "execution_count": 53,
   "metadata": {},
   "outputs": [],
   "source": [
    "tmp = 1\n",
    "for s in seq:\n",
    "    tmp *= (gc_prob[s])"
   ]
  },
  {
   "cell_type": "code",
   "execution_count": 54,
   "metadata": {},
   "outputs": [
    {
     "name": "stdout",
     "output_type": "stream",
     "text": [
      "0.067\n"
     ]
    }
   ],
   "source": [
    "##tmp = P(exact match)\n",
    "##complement of tmp = P(not exact match)\n",
    "prob = 1-((1-tmp)**90000)\n",
    "print(f'{prob:.3f}')"
   ]
  },
  {
   "cell_type": "code",
   "execution_count": null,
   "metadata": {},
   "outputs": [],
   "source": []
  }
 ],
 "metadata": {
  "kernelspec": {
   "display_name": "Python 3",
   "language": "python",
   "name": "python3"
  },
  "language_info": {
   "codemirror_mode": {
    "name": "ipython",
    "version": 3
   },
   "file_extension": ".py",
   "mimetype": "text/x-python",
   "name": "python",
   "nbconvert_exporter": "python",
   "pygments_lexer": "ipython3",
   "version": "3.7.3"
  }
 },
 "nbformat": 4,
 "nbformat_minor": 2
}
