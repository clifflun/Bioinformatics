{
 "cells": [
  {
   "cell_type": "code",
   "execution_count": null,
   "metadata": {},
   "outputs": [],
   "source": [
    "import REVC\n",
    "import HAMM"
   ]
  },
  {
   "cell_type": "code",
   "execution_count": 38,
   "metadata": {},
   "outputs": [
    {
     "name": "stdout",
     "output_type": "stream",
     "text": [
      "['Rosalind_7391', 'Rosalind_3165', 'Rosalind_0493', 'Rosalind_0625', 'Rosalind_5651', 'Rosalind_7985', 'Rosalind_1818', 'Rosalind_5496', 'Rosalind_6649', 'Rosalind_6123', 'Rosalind_5635', 'Rosalind_4671', 'Rosalind_3657', 'Rosalind_9990', 'Rosalind_6572', 'Rosalind_2233', 'Rosalind_0921', 'Rosalind_7000', 'Rosalind_4845', 'Rosalind_0800', 'Rosalind_4654', 'Rosalind_1413', 'Rosalind_3811', 'Rosalind_4810', 'Rosalind_3345', 'Rosalind_4344', 'Rosalind_3360', 'Rosalind_7732', 'Rosalind_2852', 'Rosalind_0658', 'Rosalind_9554', 'Rosalind_6909', 'Rosalind_4447', 'Rosalind_0303', 'Rosalind_4060', 'Rosalind_9539', 'Rosalind_0770', 'Rosalind_3758', 'Rosalind_7635', 'Rosalind_4059', 'Rosalind_3749', 'Rosalind_8345', 'Rosalind_9129', 'Rosalind_5766', 'Rosalind_6708', 'Rosalind_6239', 'Rosalind_5816', 'Rosalind_9493', 'Rosalind_8756', 'Rosalind_4119', 'Rosalind_5705', 'Rosalind_1282', 'Rosalind_9184', 'Rosalind_4451', 'Rosalind_4161', 'Rosalind_1371', 'Rosalind_5987', 'Rosalind_4127', 'Rosalind_0474', 'Rosalind_4192', 'Rosalind_0877', 'Rosalind_9654', 'Rosalind_5472', 'Rosalind_1195', 'Rosalind_1488', 'Rosalind_6192', 'Rosalind_5367', 'Rosalind_2404', 'Rosalind_6022', 'Rosalind_9924', 'Rosalind_8588', 'Rosalind_8752', 'Rosalind_4289', 'Rosalind_6991', 'Rosalind_0623', 'Rosalind_7565', 'Rosalind_8990', 'Rosalind_8563', 'Rosalind_2526', 'Rosalind_2261', 'Rosalind_6214', 'Rosalind_0781', 'Rosalind_3665', 'Rosalind_3660', 'Rosalind_6935', 'Rosalind_5407', 'Rosalind_3673', 'Rosalind_7513', 'Rosalind_0058', 'Rosalind_8079', 'Rosalind_3383', 'Rosalind_4543', 'Rosalind_9339', 'Rosalind_7516', 'Rosalind_4661', 'Rosalind_3303', 'Rosalind_9776', 'Rosalind_4554', 'Rosalind_3021', 'Rosalind_3719', 'Rosalind_8247', 'Rosalind_6460', 'Rosalind_1118', 'Rosalind_1754', 'Rosalind_3033', 'Rosalind_5292', 'Rosalind_2954', 'Rosalind_6809', 'Rosalind_4318', 'Rosalind_2446', 'Rosalind_2263', 'Rosalind_9573', 'Rosalind_1560', 'Rosalind_2659', 'Rosalind_9320', 'Rosalind_8958', 'Rosalind_5860', 'Rosalind_5165', 'Rosalind_3380', 'Rosalind_0315', 'Rosalind_0064', 'Rosalind_1068', 'Rosalind_8807', 'Rosalind_7648', 'Rosalind_7697', 'Rosalind_9993', 'Rosalind_9098', 'Rosalind_7968', 'Rosalind_0074', 'Rosalind_3702', 'Rosalind_7776', 'Rosalind_7490', 'Rosalind_8941', 'Rosalind_7381', 'Rosalind_1382', 'Rosalind_2198', 'Rosalind_2385', 'Rosalind_7453', 'Rosalind_3854', 'Rosalind_4385', 'Rosalind_0712', 'Rosalind_3435', 'Rosalind_3333', 'Rosalind_8528', 'Rosalind_3600', 'Rosalind_6009', 'Rosalind_7906', 'Rosalind_6416', 'Rosalind_6320', 'Rosalind_1301', 'Rosalind_7179', 'Rosalind_2305', 'Rosalind_0886', 'Rosalind_7704', 'Rosalind_5612', 'Rosalind_4481', 'Rosalind_8991', 'Rosalind_7306', 'Rosalind_5763', 'Rosalind_1517', 'Rosalind_1739', 'Rosalind_4020', 'Rosalind_3507', 'Rosalind_8918', 'Rosalind_7120', 'Rosalind_7993', 'Rosalind_7625', 'Rosalind_1935', 'Rosalind_2807', 'Rosalind_0424', 'Rosalind_1514', 'Rosalind_1828', 'Rosalind_1510', 'Rosalind_4860', 'Rosalind_0490', 'Rosalind_7067', 'Rosalind_9793', 'Rosalind_1111', 'Rosalind_0722', 'Rosalind_4716', 'Rosalind_4653', 'Rosalind_2039', 'Rosalind_6324', 'Rosalind_1967', 'Rosalind_3994', 'Rosalind_9367', 'Rosalind_2220', 'Rosalind_6128', 'Rosalind_5965', 'Rosalind_3839', 'Rosalind_7945', 'Rosalind_2422', 'Rosalind_9529', 'Rosalind_3666', 'Rosalind_2562', 'Rosalind_2066', 'Rosalind_9423', 'Rosalind_3436', 'Rosalind_9161', 'Rosalind_4372', 'Rosalind_2515', 'Rosalind_5062', 'Rosalind_5999', 'Rosalind_0797', 'Rosalind_1127', 'Rosalind_4444', 'Rosalind_7804', 'Rosalind_4864', 'Rosalind_0332', 'Rosalind_2525', 'Rosalind_6087', 'Rosalind_1717', 'Rosalind_6117', 'Rosalind_1862', 'Rosalind_6247', 'Rosalind_0705', 'Rosalind_6742', 'Rosalind_4430', 'Rosalind_9832', 'Rosalind_4920', 'Rosalind_5619', 'Rosalind_5057', 'Rosalind_1110', 'Rosalind_4785', 'Rosalind_8443', 'Rosalind_6610', 'Rosalind_8783', 'Rosalind_8615', 'Rosalind_7584', 'Rosalind_8859', 'Rosalind_7641', 'Rosalind_1987', 'Rosalind_6339', 'Rosalind_3583', 'Rosalind_0061', 'Rosalind_0868', 'Rosalind_9003', 'Rosalind_0603', 'Rosalind_5231', 'Rosalind_9916', 'Rosalind_0620', 'Rosalind_5359', 'Rosalind_6694', 'Rosalind_1991', 'Rosalind_0793', 'Rosalind_0210', 'Rosalind_3799', 'Rosalind_9969', 'Rosalind_8891', 'Rosalind_0229', 'Rosalind_5781', 'Rosalind_4938', 'Rosalind_4968', 'Rosalind_0282', 'Rosalind_7607', 'Rosalind_8685', 'Rosalind_9400', 'Rosalind_3780', 'Rosalind_6429', 'Rosalind_7817', 'Rosalind_8274', 'Rosalind_0521', 'Rosalind_6121', 'Rosalind_8111', 'Rosalind_3288', 'Rosalind_4164', 'Rosalind_2897', 'Rosalind_3739', 'Rosalind_4435', 'Rosalind_1280', 'Rosalind_9857', 'Rosalind_5136', 'Rosalind_5443', 'Rosalind_3113', 'Rosalind_4088', 'Rosalind_7414', 'Rosalind_4194', 'Rosalind_4077', 'Rosalind_6668', 'Rosalind_7266', 'Rosalind_4585', 'Rosalind_4163', 'Rosalind_1028', 'Rosalind_8914', 'Rosalind_0881', 'Rosalind_1144', 'Rosalind_1512', 'Rosalind_6217', 'Rosalind_7560', 'Rosalind_2594', 'Rosalind_6089', 'Rosalind_1441', 'Rosalind_8798', 'Rosalind_4463', 'Rosalind_6913', 'Rosalind_8173', 'Rosalind_9642', 'Rosalind_9060', 'Rosalind_4274', 'Rosalind_5881', 'Rosalind_2343', 'Rosalind_8618', 'Rosalind_3578', 'Rosalind_5068', 'Rosalind_7917', 'Rosalind_2369', 'Rosalind_5280', 'Rosalind_8479', 'Rosalind_4461', 'Rosalind_6592', 'Rosalind_6477', 'Rosalind_0546', 'Rosalind_2328', 'Rosalind_1668', 'Rosalind_9531', 'Rosalind_9059', 'Rosalind_7187', 'Rosalind_4173', 'Rosalind_0858', 'Rosalind_0221', 'Rosalind_0683', 'Rosalind_7525', 'Rosalind_8455', 'Rosalind_5107', 'Rosalind_8459', 'Rosalind_5230', 'Rosalind_0844', 'Rosalind_9973', 'Rosalind_0677', 'Rosalind_7237', 'Rosalind_7032', 'Rosalind_0088', 'Rosalind_3908', 'Rosalind_8952', 'Rosalind_8599', 'Rosalind_6310', 'Rosalind_5969', 'Rosalind_3893', 'Rosalind_6626', 'Rosalind_1134', 'Rosalind_1408', 'Rosalind_7165', 'Rosalind_5097', 'Rosalind_0023', 'Rosalind_3001', 'Rosalind_4089', 'Rosalind_9091', 'Rosalind_3352', 'Rosalind_8284', 'Rosalind_2172', 'Rosalind_9688', 'Rosalind_1098', 'Rosalind_8639', 'Rosalind_0495', 'Rosalind_6245', 'Rosalind_3205', 'Rosalind_0915', 'Rosalind_5065', 'Rosalind_8517', 'Rosalind_2889', 'Rosalind_6550', 'Rosalind_7768', 'Rosalind_3454', 'Rosalind_0666', 'Rosalind_2030', 'Rosalind_6555', 'Rosalind_2603', 'Rosalind_9597', 'Rosalind_1821', 'Rosalind_9875', 'Rosalind_4945', 'Rosalind_0247', 'Rosalind_1602', 'Rosalind_6051', 'Rosalind_5864', 'Rosalind_0160', 'Rosalind_3046', 'Rosalind_3093', 'Rosalind_9302', 'Rosalind_5053', 'Rosalind_7687', 'Rosalind_2541', 'Rosalind_5995', 'Rosalind_6404', 'Rosalind_5041', 'Rosalind_1063', 'Rosalind_2869', 'Rosalind_6375', 'Rosalind_9930', 'Rosalind_4525', 'Rosalind_4360', 'Rosalind_9033', 'Rosalind_0019', 'Rosalind_4804', 'Rosalind_6495', 'Rosalind_4319', 'Rosalind_0839', 'Rosalind_7085', 'Rosalind_1078', 'Rosalind_6595', 'Rosalind_0503', 'Rosalind_8102', 'Rosalind_6825', 'Rosalind_0663', 'Rosalind_5226', 'Rosalind_9132', 'Rosalind_0605', 'Rosalind_2543', 'Rosalind_2631', 'Rosalind_6110', 'Rosalind_7736', 'Rosalind_6545', 'Rosalind_2605', 'Rosalind_2097', 'Rosalind_3039', 'Rosalind_0486', 'Rosalind_2031', 'Rosalind_7020', 'Rosalind_8803', 'Rosalind_6793', 'Rosalind_5071', 'Rosalind_0103', 'Rosalind_4120', 'Rosalind_7394', 'Rosalind_9203', 'Rosalind_2710', 'Rosalind_6266', 'Rosalind_9727', 'Rosalind_9541', 'Rosalind_7349', 'Rosalind_6883', 'Rosalind_0456', 'Rosalind_7483', 'Rosalind_3399', 'Rosalind_5859', 'Rosalind_0202', 'Rosalind_2153', 'Rosalind_1650', 'Rosalind_1629', 'Rosalind_1707', 'Rosalind_5010', 'Rosalind_2131', 'Rosalind_4322', 'Rosalind_1266', 'Rosalind_5730', 'Rosalind_7342', 'Rosalind_4346', 'Rosalind_6584', 'Rosalind_5646', 'Rosalind_1432', 'Rosalind_9444', 'Rosalind_2480', 'Rosalind_8416', 'Rosalind_3553', 'Rosalind_4637', 'Rosalind_9197', 'Rosalind_4156', 'Rosalind_5060', 'Rosalind_4513', 'Rosalind_2151', 'Rosalind_2061', 'Rosalind_5317', 'Rosalind_8785', 'Rosalind_0329', 'Rosalind_4855', 'Rosalind_2546', 'Rosalind_8769', 'Rosalind_1464', 'Rosalind_6390', 'Rosalind_2420', 'Rosalind_8560', 'Rosalind_8106', 'Rosalind_1038', 'Rosalind_6759', 'Rosalind_2858', 'Rosalind_1745', 'Rosalind_1863', 'Rosalind_7756', 'Rosalind_8056', 'Rosalind_8796', 'Rosalind_5155', 'Rosalind_3037', 'Rosalind_0973', 'Rosalind_7886', 'Rosalind_2082', 'Rosalind_0935', 'Rosalind_9910', 'Rosalind_7880', 'Rosalind_7051', 'Rosalind_7197', 'Rosalind_7299', 'Rosalind_9090', 'Rosalind_8594', 'Rosalind_6554', 'Rosalind_9610', 'Rosalind_8744', 'Rosalind_4047', 'Rosalind_8584', 'Rosalind_5102', 'Rosalind_6496', 'Rosalind_9420', 'Rosalind_8244', 'Rosalind_1007', 'Rosalind_4106', 'Rosalind_2925', 'Rosalind_9556', 'Rosalind_8830', 'Rosalind_1723', 'Rosalind_9733', 'Rosalind_9744', 'Rosalind_7218', 'Rosalind_4555', 'Rosalind_1911', 'Rosalind_7129', 'Rosalind_3267', 'Rosalind_3544', 'Rosalind_5094', 'Rosalind_8431', 'Rosalind_1528', 'Rosalind_7544', 'Rosalind_1060', 'Rosalind_0577', 'Rosalind_4528', 'Rosalind_5477', 'Rosalind_5124', 'Rosalind_2817', 'Rosalind_7254', 'Rosalind_5800', 'Rosalind_3764', 'Rosalind_3002', 'Rosalind_9817', 'Rosalind_8194', 'Rosalind_2280', 'Rosalind_2898', 'Rosalind_5480', 'Rosalind_5526', 'Rosalind_0946', 'Rosalind_8397', 'Rosalind_8277', 'Rosalind_4678', 'Rosalind_6335', 'Rosalind_5492', 'Rosalind_0012', 'Rosalind_2265', 'Rosalind_9898', 'Rosalind_2281', 'Rosalind_7545', 'Rosalind_9044', 'Rosalind_0660', 'Rosalind_2437', 'Rosalind_9782', 'Rosalind_5268', 'Rosalind_5872', 'Rosalind_9751', 'Rosalind_7676', 'Rosalind_9424', 'Rosalind_6573', 'Rosalind_0110', 'Rosalind_6377', 'Rosalind_0551', 'Rosalind_0020', 'Rosalind_0509', 'Rosalind_3026', 'Rosalind_0849', 'Rosalind_1139', 'Rosalind_6055', 'Rosalind_7497', 'Rosalind_3203', 'Rosalind_3283', 'Rosalind_5244', 'Rosalind_3278', 'Rosalind_4997', 'Rosalind_8007', 'Rosalind_0778', 'Rosalind_5236', 'Rosalind_5968', 'Rosalind_5650', 'Rosalind_0997', 'Rosalind_5448', 'Rosalind_5523', 'Rosalind_1157', 'Rosalind_7348', 'Rosalind_2304', 'Rosalind_3748', 'Rosalind_8939', 'Rosalind_4903', 'Rosalind_0500', 'Rosalind_5351', 'Rosalind_7829', 'Rosalind_0356', 'Rosalind_1540', 'Rosalind_4631', 'Rosalind_7569', 'Rosalind_7025', 'Rosalind_9874', 'Rosalind_3223', 'Rosalind_2643', 'Rosalind_9143', 'Rosalind_4974', 'Rosalind_1831', 'Rosalind_8964', 'Rosalind_8667', 'Rosalind_5617', 'Rosalind_1096', 'Rosalind_3466', 'Rosalind_1823', 'Rosalind_4645', 'Rosalind_4327', 'Rosalind_2937', 'Rosalind_8776', 'Rosalind_1522', 'Rosalind_3742', 'Rosalind_5798', 'Rosalind_6777', 'Rosalind_8437', 'Rosalind_5560', 'Rosalind_8730', 'Rosalind_6823', 'Rosalind_4150', 'Rosalind_1846', 'Rosalind_9398', 'Rosalind_1588', 'Rosalind_7724', 'Rosalind_7400', 'Rosalind_5893', 'Rosalind_5314', 'Rosalind_9856', 'Rosalind_3812', 'Rosalind_5172', 'Rosalind_4244', 'Rosalind_2838', 'Rosalind_1184', 'Rosalind_3534', 'Rosalind_8601', 'Rosalind_7235', 'Rosalind_5564', 'Rosalind_8568', 'Rosalind_0400', 'Rosalind_9381', 'Rosalind_4538', 'Rosalind_0784', 'Rosalind_9600', 'Rosalind_3585', 'Rosalind_4772', 'Rosalind_1571', 'Rosalind_5839', 'Rosalind_8505', 'Rosalind_7316', 'Rosalind_8016', 'Rosalind_4502', 'Rosalind_2184', 'Rosalind_8728', 'Rosalind_0082', 'Rosalind_9360', 'Rosalind_7147', 'Rosalind_0861', 'Rosalind_9280', 'Rosalind_1205', 'Rosalind_0938', 'Rosalind_0803', 'Rosalind_9760', 'Rosalind_4339', 'Rosalind_0123', 'Rosalind_3302', 'Rosalind_0436', 'Rosalind_3680', 'Rosalind_2757', 'Rosalind_9107', 'Rosalind_4786', 'Rosalind_4102', 'Rosalind_9285', 'Rosalind_8592', 'Rosalind_0810', 'Rosalind_7325', 'Rosalind_3750', 'Rosalind_1058', 'Rosalind_8458', 'Rosalind_1108', 'Rosalind_5793', 'Rosalind_9467', 'Rosalind_0334', 'Rosalind_6484', 'Rosalind_1374', 'Rosalind_7596', 'Rosalind_3470', 'Rosalind_9342', 'Rosalind_4615', 'Rosalind_4236', 'Rosalind_8649', 'Rosalind_6436', 'Rosalind_2705', 'Rosalind_0081', 'Rosalind_6992', 'Rosalind_5656', 'Rosalind_7725', 'Rosalind_7958', 'Rosalind_6156', 'Rosalind_3804', 'Rosalind_9827', 'Rosalind_8162', 'Rosalind_1751', 'Rosalind_9006', 'Rosalind_9276', 'Rosalind_0612', 'Rosalind_1516', 'Rosalind_5364', 'Rosalind_3290', 'Rosalind_7185', 'Rosalind_7660', 'Rosalind_1609', 'Rosalind_3551', 'Rosalind_5476', 'Rosalind_5865', 'Rosalind_1555', 'Rosalind_7881', 'Rosalind_1591', 'Rosalind_5901', 'Rosalind_8780', 'Rosalind_8569', 'Rosalind_9216', 'Rosalind_2516', 'Rosalind_6717', 'Rosalind_5658', 'Rosalind_0857', 'Rosalind_8650', 'Rosalind_7312', 'Rosalind_2699', 'Rosalind_4812', 'Rosalind_1727', 'Rosalind_0053', 'Rosalind_6995', 'Rosalind_4856', 'Rosalind_1801', 'Rosalind_9141', 'Rosalind_2592', 'Rosalind_0188', 'Rosalind_5025', 'Rosalind_5211', 'Rosalind_6693', 'Rosalind_7594', 'Rosalind_8771', 'Rosalind_6927', 'Rosalind_5403', 'Rosalind_3462', 'Rosalind_4790', 'Rosalind_8294', 'Rosalind_9674', 'Rosalind_8077', 'Rosalind_5036', 'Rosalind_6083', 'Rosalind_2588', 'Rosalind_8877', 'Rosalind_7481', 'Rosalind_4821', 'Rosalind_7447', 'Rosalind_6208', 'Rosalind_2936', 'Rosalind_3882', 'Rosalind_8863', 'Rosalind_8006', 'Rosalind_6392', 'Rosalind_8507', 'Rosalind_3620', 'Rosalind_3823', 'Rosalind_4597', 'Rosalind_9950', 'Rosalind_5427', 'Rosalind_0696', 'Rosalind_4460', 'Rosalind_7750', 'Rosalind_8119', 'Rosalind_9574', 'Rosalind_3439', 'Rosalind_2067', 'Rosalind_4003', 'Rosalind_9730', 'Rosalind_2013', 'Rosalind_3194', 'Rosalind_3564', 'Rosalind_2374', 'Rosalind_9109', 'Rosalind_4962', 'Rosalind_0232', 'Rosalind_8660', 'Rosalind_1533', 'Rosalind_9449', 'Rosalind_4493', 'Rosalind_7905', 'Rosalind_2780', 'Rosalind_4011', 'Rosalind_0438', 'Rosalind_1397', 'Rosalind_3358', 'Rosalind_1304', 'Rosalind_1024', 'Rosalind_1950', 'Rosalind_4612', 'Rosalind_9173', 'Rosalind_0180', 'Rosalind_8738', 'Rosalind_5754', 'Rosalind_7890', 'Rosalind_0525', 'Rosalind_2379', 'Rosalind_9100', 'Rosalind_5130', 'Rosalind_5081', 'Rosalind_9617', 'Rosalind_9891', 'Rosalind_4403', 'Rosalind_9160', 'Rosalind_2034', 'Rosalind_8371', 'Rosalind_3954', 'Rosalind_2684', 'Rosalind_8762', 'Rosalind_4943', 'Rosalind_1951', 'Rosalind_4539', 'Rosalind_5597', 'Rosalind_9633', 'Rosalind_2289', 'Rosalind_3919', 'Rosalind_1088', 'Rosalind_7039', 'Rosalind_5135', 'Rosalind_8642', 'Rosalind_2499', 'Rosalind_0169', 'Rosalind_9698', 'Rosalind_0362', 'Rosalind_8190', 'Rosalind_0274', 'Rosalind_9848', 'Rosalind_8204', 'Rosalind_0478', 'Rosalind_3927', 'Rosalind_7350', 'Rosalind_2143', 'Rosalind_4189', 'Rosalind_0922', 'Rosalind_5246', 'Rosalind_8911', 'Rosalind_6195', 'Rosalind_7715', 'Rosalind_9750', 'Rosalind_3241', 'Rosalind_5398', 'Rosalind_7893', 'Rosalind_5806', 'Rosalind_2915', 'Rosalind_3170', 'Rosalind_9980', 'Rosalind_0523', 'Rosalind_7354', 'Rosalind_1026', 'Rosalind_9676', 'Rosalind_4843', 'Rosalind_7202', 'Rosalind_8902', 'Rosalind_3863', 'Rosalind_1025', 'Rosalind_7699', 'Rosalind_6053', 'Rosalind_5327', 'Rosalind_5234', 'Rosalind_0606', 'Rosalind_6860', 'Rosalind_0826', 'Rosalind_5592', 'Rosalind_1186', 'Rosalind_5114', 'Rosalind_5659', 'Rosalind_0269', 'Rosalind_7995', 'Rosalind_9888', 'Rosalind_0093', 'Rosalind_2005', 'Rosalind_1168', 'Rosalind_1975', 'Rosalind_8483', 'Rosalind_8880', 'Rosalind_1883', 'Rosalind_6790', 'Rosalind_0409', 'Rosalind_3181', 'Rosalind_5091', 'Rosalind_1453', 'Rosalind_1981', 'Rosalind_0463', 'Rosalind_8318', 'Rosalind_8338', 'Rosalind_4737', 'Rosalind_9410', 'Rosalind_7170', 'Rosalind_5876', 'Rosalind_7319', 'Rosalind_1193', 'Rosalind_9515', 'Rosalind_8886', 'Rosalind_4666', 'Rosalind_9274', 'Rosalind_7627', 'Rosalind_7454', 'Rosalind_4720', 'Rosalind_1822', 'Rosalind_2940', 'Rosalind_6253', 'Rosalind_6654', 'Rosalind_9521', 'Rosalind_1816', 'Rosalind_3473', 'Rosalind_8524', 'Rosalind_4031', 'Rosalind_7903', 'Rosalind_8596', 'Rosalind_9065', 'Rosalind_6170', 'Rosalind_0003', 'Rosalind_7558', 'Rosalind_9239', 'Rosalind_2886', 'Rosalind_8970', 'Rosalind_9407', 'Rosalind_5397', 'Rosalind_4971', 'Rosalind_7071', 'Rosalind_3556', 'Rosalind_7181', 'Rosalind_8236', 'Rosalind_0532', 'Rosalind_4930', 'Rosalind_0552', 'Rosalind_0429', 'Rosalind_9279', 'Rosalind_6020', 'Rosalind_5269', 'Rosalind_9585', 'Rosalind_5099', 'Rosalind_0417', 'Rosalind_4686', 'Rosalind_4042', 'Rosalind_4381', 'Rosalind_0691', 'Rosalind_0989', 'Rosalind_6052', 'Rosalind_2946', 'Rosalind_1583', 'Rosalind_8848', 'Rosalind_4606', 'Rosalind_5450', 'Rosalind_2902', 'Rosalind_1483', 'Rosalind_7140', 'Rosalind_4415', 'Rosalind_2776', 'Rosalind_9871', 'Rosalind_3610', 'Rosalind_1090', 'Rosalind_1247', 'Rosalind_2771', 'Rosalind_1240', 'Rosalind_2149', 'Rosalind_4130', 'Rosalind_1776', 'Rosalind_1752', 'Rosalind_2950', 'Rosalind_0186', 'Rosalind_7418', 'Rosalind_2746']\n"
     ]
    }
   ],
   "source": [
    "##getting fasta in list format\n",
    "fa_id = []\n",
    "temp = ''\n",
    "for line in open('CORR.txt'): \n",
    "    if line.startswith('>'):\n",
    "        fa_id.append(line.strip()[1:])\n",
    "        temp +='>'\n",
    "    else: \n",
    "        temp += line.strip()\n",
    "fa_seq = temp.split('>')[1:]\n",
    "\n",
    "print(fa_id)\n",
    "# print(fa_seq)"
   ]
  },
  {
   "cell_type": "code",
   "execution_count": null,
   "metadata": {},
   "outputs": [],
   "source": [
    "rev = [REVC.main(s) for s in fa_seq]\n",
    "count = {}\n",
    "\n",
    "for s in fa_seq:\n",
    "    count[s] = count.get(s, 0) +1\n",
    "for s in rev:\n",
    "    count[s] = count.get(s, 0) +1"
   ]
  },
  {
   "cell_type": "code",
   "execution_count": null,
   "metadata": {},
   "outputs": [],
   "source": [
    "mismatch = []\n",
    "correct = []\n",
    "for k,v in count.items():\n",
    "    if v == 1 and k in fa_seq: \n",
    "        mismatch.append(k)\n",
    "    else:\n",
    "        correct.append(k)"
   ]
  },
  {
   "cell_type": "code",
   "execution_count": null,
   "metadata": {},
   "outputs": [],
   "source": [
    "for m in mismatch:\n",
    "    for c in correct:\n",
    "        if HAMM.main(m, c) == 1: \n",
    "            print(f'{m}->{c}')"
   ]
  },
  {
   "cell_type": "code",
   "execution_count": null,
   "metadata": {},
   "outputs": [],
   "source": []
  }
 ],
 "metadata": {
  "kernelspec": {
   "display_name": "Python 3",
   "language": "python",
   "name": "python3"
  },
  "language_info": {
   "codemirror_mode": {
    "name": "ipython",
    "version": 3
   },
   "file_extension": ".py",
   "mimetype": "text/x-python",
   "name": "python",
   "nbconvert_exporter": "python",
   "pygments_lexer": "ipython3",
   "version": "3.7.3"
  }
 },
 "nbformat": 4,
 "nbformat_minor": 2
}
