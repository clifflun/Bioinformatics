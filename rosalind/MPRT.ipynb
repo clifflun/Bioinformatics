{
 "cells": [
  {
   "cell_type": "code",
   "execution_count": 29,
   "metadata": {},
   "outputs": [],
   "source": [
    "import requests\n",
    "import re"
   ]
  },
  {
   "cell_type": "code",
   "execution_count": 116,
   "metadata": {},
   "outputs": [],
   "source": [
    "with open('MPRT.txt', 'r') as f: \n",
    "    uniprot_id = f.read().splitlines()\n"
   ]
  },
  {
   "cell_type": "code",
   "execution_count": 107,
   "metadata": {},
   "outputs": [],
   "source": [
    "uniprot_id =['A2Z669','B5ZC00','P07204_TRBM_HUMAN','P20840_SAG1_YEAST']\n",
    "motif = 'N{P}[ST]{P}'\n",
    "\n"
   ]
  },
  {
   "cell_type": "code",
   "execution_count": 117,
   "metadata": {},
   "outputs": [
    {
     "name": "stdout",
     "output_type": "stream",
     "text": [
      "P01215_GLHA_HUMAN\n",
      "76 102 \n",
      "P01045_KNH2_BOVIN\n",
      "47 87 168 169 197 204 280 \n",
      "P39873_RNBR_BOVIN\n",
      "88 \n",
      "P21809_PGS1_BOVIN\n",
      "271 312 \n",
      "Q81QB7\n",
      "27 \n",
      "P01217_GLHA_BOVIN\n",
      "80 106 \n"
     ]
    }
   ],
   "source": [
    "## format uniprot id\n",
    "uniprot_id_2 = [re.split(r'_', i)[0] for i in uniprot_id]\n",
    "\n",
    "##getting data from uniprot\n",
    "for id1, id2 in zip(uniprot_id, uniprot_id_2):\n",
    "    response = requests.get(f'https://rest.uniprot.org/uniprotkb/{id2}.fasta')\n",
    "    lines = response.text.splitlines()\n",
    "    aa = ''\n",
    "    for line in lines: \n",
    "        if line.startswith('>'): \n",
    "            pass\n",
    "        else: \n",
    "            aa += line\n",
    "    if bool(re.search(r\"N[^P][ST][^P]\", aa)) is not False:\n",
    "        idx = re.finditer(r\"(?=(N[^P][ST][^P]))\", aa)\n",
    "        print(f\"{id1}\")\n",
    "        for i in idx: \n",
    "            print(i.start()+1, end = ' ')\n",
    "        print()"
   ]
  }
 ],
 "metadata": {
  "kernelspec": {
   "display_name": "Python 3",
   "language": "python",
   "name": "python3"
  },
  "language_info": {
   "codemirror_mode": {
    "name": "ipython",
    "version": 3
   },
   "file_extension": ".py",
   "mimetype": "text/x-python",
   "name": "python",
   "nbconvert_exporter": "python",
   "pygments_lexer": "ipython3",
   "version": "3.7.3"
  }
 },
 "nbformat": 4,
 "nbformat_minor": 2
}
