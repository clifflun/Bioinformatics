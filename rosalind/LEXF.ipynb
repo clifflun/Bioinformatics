{
 "cells": [
  {
   "cell_type": "code",
   "execution_count": 1,
   "metadata": {},
   "outputs": [],
   "source": [
    "import itertools"
   ]
  },
  {
   "cell_type": "code",
   "execution_count": 85,
   "metadata": {},
   "outputs": [
    {
     "name": "stdout",
     "output_type": "stream",
     "text": [
      "['A', 'B', 'C', 'D', 'E', 'F', 'G', 'H', 'I', 'J'] 2\n"
     ]
    }
   ],
   "source": [
    "with open('LEXF.txt', 'r') as f:\n",
    "    line = f.readline()\n",
    "    n = int(f.readline())\n",
    "x= line.strip().split()\n",
    "print(x,n)"
   ]
  },
  {
   "cell_type": "code",
   "execution_count": 96,
   "metadata": {},
   "outputs": [],
   "source": [
    "def main(x,n):\n",
    "    tmp=[]\n",
    "    for i in itertools.product(x, repeat = n):\n",
    "        tmp.append(i)\n",
    "    tmp = [list(i) for i in tmp]\n",
    "    tmp = [''.join(i) for i in tmp]\n",
    "    out = sorted([i for i in set(tmp)])\n",
    "    return out\n"
   ]
  },
  {
   "cell_type": "code",
   "execution_count": 98,
   "metadata": {},
   "outputs": [],
   "source": [
    "if __name__==\"__main_\":\n",
    "    main()"
   ]
  },
  {
   "cell_type": "code",
   "execution_count": null,
   "metadata": {},
   "outputs": [],
   "source": []
  }
 ],
 "metadata": {
  "kernelspec": {
   "display_name": "Python 3",
   "language": "python",
   "name": "python3"
  },
  "language_info": {
   "codemirror_mode": {
    "name": "ipython",
    "version": 3
   },
   "file_extension": ".py",
   "mimetype": "text/x-python",
   "name": "python",
   "nbconvert_exporter": "python",
   "pygments_lexer": "ipython3",
   "version": "3.7.3"
  }
 },
 "nbformat": 4,
 "nbformat_minor": 2
}
