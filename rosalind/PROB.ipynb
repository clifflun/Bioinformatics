{
 "cells": [
  {
   "cell_type": "code",
   "execution_count": 1,
   "metadata": {},
   "outputs": [],
   "source": [
    "import math"
   ]
  },
  {
   "cell_type": "code",
   "execution_count": 2,
   "metadata": {},
   "outputs": [],
   "source": [
    "with open ('PROB.txt', 'r') as f: \n",
    "    seq = f.readline().strip()\n",
    "    GC = f.readline().split()\n",
    "GC =[float(i) for i in GC]"
   ]
  },
  {
   "cell_type": "code",
   "execution_count": 4,
   "metadata": {},
   "outputs": [],
   "source": [
    "def create_prob_table(n):\n",
    "    prob = {'A': (1-n)/2,\n",
    "            'C': n/2,\n",
    "            'G': n/2,\n",
    "            'T': (1-n)/2,\n",
    "           }  \n",
    "    return prob"
   ]
  },
  {
   "cell_type": "code",
   "execution_count": 5,
   "metadata": {},
   "outputs": [],
   "source": [
    "def main(seq, GC):\n",
    "    out = []\n",
    "    for gc in GC:\n",
    "        prob = create_prob_table(gc)\n",
    "        tmp=1\n",
    "        for s in seq:\n",
    "            tmp *= (prob[s])\n",
    "        out.append(tmp)\n",
    "    out = [math.log10(o) for o in out]\n",
    "    return out"
   ]
  },
  {
   "cell_type": "code",
   "execution_count": 6,
   "metadata": {},
   "outputs": [
    {
     "name": "stdout",
     "output_type": "stream",
     "text": [
      "-79.539 -68.730 -59.950 -58.645 -54.458 -52.622 -51.412 -50.847 -50.673 -50.696 -50.829 -51.770 -53.684 -54.783 -58.246 -61.092 -67.104 -72.266 "
     ]
    }
   ],
   "source": [
    "if __name__=='__main__':\n",
    "    res = main(seq,GC)\n",
    "    for i in res:\n",
    "        print(f'{i:.3f}', end=' ')"
   ]
  },
  {
   "cell_type": "code",
   "execution_count": null,
   "metadata": {},
   "outputs": [],
   "source": [
    "\n"
   ]
  }
 ],
 "metadata": {
  "kernelspec": {
   "display_name": "Python 3",
   "language": "python",
   "name": "python3"
  },
  "language_info": {
   "codemirror_mode": {
    "name": "ipython",
    "version": 3
   },
   "file_extension": ".py",
   "mimetype": "text/x-python",
   "name": "python",
   "nbconvert_exporter": "python",
   "pygments_lexer": "ipython3",
   "version": "3.7.3"
  }
 },
 "nbformat": 4,
 "nbformat_minor": 2
}
