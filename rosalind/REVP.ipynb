{
 "cells": [
  {
   "cell_type": "code",
   "execution_count": 64,
   "metadata": {},
   "outputs": [],
   "source": [
    "import REVC"
   ]
  },
  {
   "cell_type": "code",
   "execution_count": 106,
   "metadata": {},
   "outputs": [
    {
     "name": "stdout",
     "output_type": "stream",
     "text": [
      "['Rosalind_5268']\n",
      "['TATAGTAAGGATCACCACGGAATCCTGCTGTGCCGCTAATTCTAGATGCCCATCACTGAAGCTGCTGACGCTTCAGTGAGATGCTCGGCGTGAGTGAGTGAGGAGGGATAATTAGACACTTAACAGCCTATCGCCCGCTAGACTATAGTAGCACCGGGCTTTACGCGGTGACCAATCTTTACGCGAGGCTCCGAACGGCCGTAATAGAAATACCGGTACCGGCTATCTGACAGTGCTAGTAAAAAACAAGCGTATATGTAACGCATAGCTTAACTTCACCGAAGCGTTGCTCTGATCCATGGAACACTCGCCTTCAGGCCCCAAAAACAAATAGTGATGCCGGCCGCCGGGGGGGGGGGCACATCAACAGTCATTCGGCACGAGCCCGAAATAGCGGACTTGGCTACTGGTTCAATATAGTCGAAAAAATCGTTTCGGATCCGAATCCTGCAAAGGTTCGTGATCGCTTTCCCCGATTCTACAAGGGGCTTGTCTAGAATATATATGGTGCAGACGTGGTGAGCGCGTCAAGCTGCTAGCACCTTCAGTTGGGTAGTTATAGGGAGTCCGCACGATCAACCACTCGCACGGGTTATGATCCACAAAACCGCGAGTTCACTGCTCCTAGATTTGGAACCTCGACCCCTGTCGAGCTGAGCCACGCAGAGGCCTTCCCGCGGGTTAGTTTGATTTGGAGTGTTGGCCGTGCCCATCCCTTGCTCAATAAGCGAAGCTATAGAAACAGCCCCCTAATGTCTATAGATAGACACGTGAGGTGGCGGTAGCGAACCTCGCTTACAAATACGCCACCGTCCCGTCAATCGGTCCAAACGCGGTATAGAGGCACCGCACACCCCAGTTCGCCCTCAATTTGCGCG']\n"
     ]
    }
   ],
   "source": [
    "##getting fasta in list format\n",
    "fa_id = []\n",
    "temp = ''\n",
    "for line in open('REVP.txt'): \n",
    "    if line.startswith('>'):\n",
    "        fa_id.append(line.strip()[1:])\n",
    "        temp +='>'\n",
    "    else: \n",
    "        temp += line.strip()\n",
    "fa_seq = temp.split('>')[1:]\n",
    "\n",
    "print(fa_id)\n",
    "print(fa_seq)"
   ]
  },
  {
   "cell_type": "code",
   "execution_count": 107,
   "metadata": {},
   "outputs": [],
   "source": [
    "##finding all restrictions sites of length 4\n",
    "rs4_sites=[]\n",
    "for i in range(0, len(fa_seq[0])): \n",
    "    temp = fa_seq[0][i:i+4]\n",
    "    if len(temp) < 4 or len(temp) > 12: \n",
    "        continue\n",
    "    if temp == REVC.main(temp): ##if equals to reverse complement\n",
    "        rs4_sites.append((i+1, len(temp)))\n"
   ]
  },
  {
   "cell_type": "code",
   "execution_count": 108,
   "metadata": {},
   "outputs": [],
   "source": [
    "##finding all RS up to length 12\n",
    "rs_sites_inclusive=[]\n",
    "for rs in rs4_sites:\n",
    "    s=rs[0]-1\n",
    "    e=rs[0]-1+rs[1]\n",
    "    while e-s< 13: #up to length 12\n",
    "#         print(s,e)\n",
    "        temp = fa_seq[0][s:e]\n",
    "        if len(temp) < 4 or len(temp) > 12: \n",
    "            break\n",
    "\n",
    "        if temp == REVC.main(temp):\n",
    "            rs_sites_inclusive.append((s+1, len(temp), temp))\n",
    "        s -= 1 ##expanding window by 2\n",
    "        e += 1\n"
   ]
  },
  {
   "cell_type": "code",
   "execution_count": 109,
   "metadata": {
    "scrolled": false
   },
   "outputs": [
    {
     "name": "stdout",
     "output_type": "stream",
     "text": [
      "1\t4\n",
      "10\t4\n",
      "38\t4\n",
      "41\t6\n",
      "42\t4\n",
      "60\t4\n",
      "109\t6\n",
      "110\t4\n",
      "120\t4\n",
      "138\t4\n",
      "142\t8\n",
      "143\t6\n",
      "144\t4\n",
      "154\t4\n",
      "164\t4\n",
      "182\t4\n",
      "195\t8\n",
      "196\t6\n",
      "197\t4\n",
      "211\t8\n",
      "212\t6\n",
      "213\t4\n",
      "213\t10\n",
      "214\t8\n",
      "215\t6\n",
      "216\t4\n",
      "219\t4\n",
      "236\t4\n",
      "253\t4\n",
      "254\t4\n",
      "267\t4\n",
      "270\t4\n",
      "294\t4\n",
      "296\t8\n",
      "297\t6\n",
      "298\t4\n",
      "317\t4\n",
      "339\t6\n",
      "340\t4\n",
      "341\t6\n",
      "342\t4\n",
      "347\t4\n",
      "415\t4\n",
      "416\t4\n",
      "421\t4\n",
      "434\t12\n",
      "435\t10\n",
      "436\t8\n",
      "437\t6\n",
      "438\t4\n",
      "449\t4\n",
      "462\t4\n",
      "493\t6\n",
      "494\t4\n",
      "499\t4\n",
      "499\t6\n",
      "499\t8\n",
      "500\t4\n",
      "500\t6\n",
      "501\t4\n",
      "501\t6\n",
      "502\t4\n",
      "503\t4\n",
      "509\t4\n",
      "514\t4\n",
      "523\t4\n",
      "524\t4\n",
      "531\t4\n",
      "534\t8\n",
      "535\t6\n",
      "536\t4\n",
      "558\t4\n",
      "574\t4\n",
      "597\t4\n",
      "609\t4\n",
      "625\t4\n",
      "639\t4\n",
      "649\t4\n",
      "652\t4\n",
      "667\t6\n",
      "668\t4\n",
      "674\t8\n",
      "675\t6\n",
      "676\t4\n",
      "702\t4\n",
      "732\t4\n",
      "734\t6\n",
      "735\t4\n",
      "756\t8\n",
      "757\t6\n",
      "758\t4\n",
      "768\t6\n",
      "769\t4\n",
      "832\t4\n",
      "837\t4\n",
      "869\t4\n",
      "874\t4\n",
      "875\t4\n"
     ]
    }
   ],
   "source": [
    "##output formatting\n",
    "for i in sorted(rs_sites_inclusive):\n",
    "    print(f\"{i[0]}\\t{i[1]}\")"
   ]
  }
 ],
 "metadata": {
  "kernelspec": {
   "display_name": "Python 3",
   "language": "python",
   "name": "python3"
  },
  "language_info": {
   "codemirror_mode": {
    "name": "ipython",
    "version": 3
   },
   "file_extension": ".py",
   "mimetype": "text/x-python",
   "name": "python",
   "nbconvert_exporter": "python",
   "pygments_lexer": "ipython3",
   "version": "3.7.3"
  }
 },
 "nbformat": 4,
 "nbformat_minor": 2
}
