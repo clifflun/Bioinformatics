{
 "cells": [
  {
   "cell_type": "code",
   "execution_count": 3,
   "metadata": {},
   "outputs": [],
   "source": [
    "seq = \"CACGCTCAATATTCAATATCTCAATATTAGTCAATATTACTCAATATAAGATCTGTCAATATAGCTATCAATATTCAATATATCAATATTCAATATTCAATATTCAATATCCGTCAATATTTATCAATATTGATGTCTAATCAATATGGCGTCAATATGATTCTCAATATTCAATATACAGTCAATATGTTCCTCAATATATGTCAATATAAACGTCAATATTCAATATGCGCTCAATAAGTCCGATCAATATCCATGCTCAATATTCAATATCGCTCAATATCTCAATATTCAATATTCAATATCTCAATATTCAATATTCAATATCTCAATATCGTTCAATATCTTCAATATGTCAATATGCGTCAATATCTGTTCAATATTATCAATATTCAATATTATCAATATCGTCAATATCTCAATATTCCGTTGCGCTCAATATTTTCAATATTCAATATGCAACTCAATATGCTGCAGAAGGGATTCAATATTCAATATTTGACGATCAATATTCAATATTCTTTCAATATTTTCAATATTCAATATCTTCAATATGATTCAATATGATAGCGTCAATATGCCTCTACACTCAATATTCAGATCAATATTCTCTCAATATTGTCAATATAGAGAACGGGCTCAATATTCAATATTCAATATTCAATATTCAATATCTCAATATCTCAATATCTTCAATATTCAATATTCAATATTCAATATAACAGTCAATATATCAATATTCAATATATCAATATGTCAATATCTCAATATTCAATATTTACCTTTCAATATTGTCAATATTCAATATCGTTGATTGTCAATATTTCAATATTCAATATATCAATATGGTCAATATCTTTTTCAATATTTTCAATATGTGTTCAATATAAGTATGTGAACAACTTCAATATATATCAATATATCAATATTCAATATATTTCAATAT\"\n",
    "q = \"TCAATATTC\"\n",
    "\n"
   ]
  },
  {
   "cell_type": "code",
   "execution_count": 9,
   "metadata": {},
   "outputs": [],
   "source": [
    "def main(seq, q):\n",
    "    pos = []\n",
    "    for i in range(len(seq)-len(q)):\n",
    "        if (seq[i:len(q)+i]) == q:\n",
    "            pos.append(i+1)\n",
    "    return pos\n",
    "    "
   ]
  },
  {
   "cell_type": "code",
   "execution_count": 10,
   "metadata": {},
   "outputs": [
    {
     "data": {
      "text/plain": [
       "[6,\n",
       " 68,\n",
       " 83,\n",
       " 90,\n",
       " 97,\n",
       " 164,\n",
       " 216,\n",
       " 260,\n",
       " 285,\n",
       " 292,\n",
       " 307,\n",
       " 314,\n",
       " 386,\n",
       " 419,\n",
       " 445,\n",
       " 485,\n",
       " 506,\n",
       " 513,\n",
       " 533,\n",
       " 590,\n",
       " 602,\n",
       " 640,\n",
       " 647,\n",
       " 654,\n",
       " 661,\n",
       " 693,\n",
       " 700,\n",
       " 707,\n",
       " 734,\n",
       " 765,\n",
       " 795,\n",
       " 826,\n",
       " 923]"
      ]
     },
     "execution_count": 10,
     "metadata": {},
     "output_type": "execute_result"
    }
   ],
   "source": [
    "main(seq, q)\n"
   ]
  },
  {
   "cell_type": "code",
   "execution_count": null,
   "metadata": {},
   "outputs": [],
   "source": []
  }
 ],
 "metadata": {
  "kernelspec": {
   "display_name": "Python 3",
   "language": "python",
   "name": "python3"
  },
  "language_info": {
   "codemirror_mode": {
    "name": "ipython",
    "version": 3
   },
   "file_extension": ".py",
   "mimetype": "text/x-python",
   "name": "python",
   "nbconvert_exporter": "python",
   "pygments_lexer": "ipython3",
   "version": "3.7.3"
  }
 },
 "nbformat": 4,
 "nbformat_minor": 2
}
