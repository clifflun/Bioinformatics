{
 "cells": [
  {
   "cell_type": "code",
   "execution_count": 24,
   "metadata": {},
   "outputs": [],
   "source": [
    "from math import factorial\n",
    "import itertools"
   ]
  },
  {
   "cell_type": "code",
   "execution_count": 31,
   "metadata": {},
   "outputs": [],
   "source": [
    "with open('EVAL.txt', 'r') as f:\n",
    "    n = int(f.readline().strip())\n",
    "    seq = f.readline().strip()\n",
    "    A = f.readline().strip().split()\n",
    "A = [float(a) for a in A]\n",
    "possible_spots= n-len(seq)+1\n"
   ]
  },
  {
   "cell_type": "code",
   "execution_count": 43,
   "metadata": {},
   "outputs": [],
   "source": [
    "def get_gc_prob(gc):\n",
    "    gc_prob ={}\n",
    "    gc_prob['A'] = (1-gc)/2\n",
    "    gc_prob['C'] = gc/2\n",
    "    gc_prob['G'] = gc/2\n",
    "    gc_prob['T'] = (1-gc)/2\n",
    "    return gc_prob"
   ]
  },
  {
   "cell_type": "code",
   "execution_count": 46,
   "metadata": {},
   "outputs": [],
   "source": [
    "out = []\n",
    "for a in A:\n",
    "#     print(a)\n",
    "    gc_prob = get_gc_prob(a)\n",
    "    prob = 1\n",
    "    for s in seq:\n",
    "        prob *= gc_prob[s]\n",
    "#         print(prob)\n",
    "    out.append(prob*possible_spots)"
   ]
  },
  {
   "cell_type": "code",
   "execution_count": null,
   "metadata": {},
   "outputs": [],
   "source": []
  }
 ],
 "metadata": {
  "kernelspec": {
   "display_name": "Python 3",
   "language": "python",
   "name": "python3"
  },
  "language_info": {
   "codemirror_mode": {
    "name": "ipython",
    "version": 3
   },
   "file_extension": ".py",
   "mimetype": "text/x-python",
   "name": "python",
   "nbconvert_exporter": "python",
   "pygments_lexer": "ipython3",
   "version": "3.7.3"
  }
 },
 "nbformat": 4,
 "nbformat_minor": 2
}
